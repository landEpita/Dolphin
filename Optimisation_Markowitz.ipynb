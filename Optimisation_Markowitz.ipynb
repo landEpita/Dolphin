{
 "cells": [
  {
   "cell_type": "code",
   "execution_count": 1,
   "metadata": {},
   "outputs": [],
   "source": [
    "import numpy as np\n",
    "import matplotlib.pyplot as plt\n",
    "import requests\n",
    "import pandas as pd\n",
    "import json"
   ]
  },
  {
   "cell_type": "code",
   "execution_count": 2,
   "metadata": {},
   "outputs": [],
   "source": [
    "import warnings\n",
    "warnings.filterwarnings('ignore')"
   ]
  },
  {
   "cell_type": "markdown",
   "metadata": {},
   "source": [
    "# Rappel du sujet\n",
    "\n",
    "- 15 actifs min et 40 max\n",
    "- chaque actif ne doit pas etre superieux a 10% du portefeuille"
   ]
  },
  {
   "cell_type": "markdown",
   "metadata": {},
   "source": [
    "# Manager API"
   ]
  },
  {
   "cell_type": "code",
   "execution_count": 3,
   "metadata": {},
   "outputs": [],
   "source": [
    "\n",
    "class RESTManager:\n",
    "    HOST_NAME = \"dolphin.jump-technology.com\"\n",
    "    PORT = \"8443\"\n",
    "\n",
    "    URL = \"https://\" + HOST_NAME + \":\" + PORT + \"/api/v1/\"\n",
    "\n",
    "    USERNAME_USER1 = \"EPITA_GROUPE8\"\n",
    "    PASSWORD_USER1 = \"AgLyQx64Jw6pAkW9\"\n",
    "\n",
    "    auth = (USERNAME_USER1, PASSWORD_USER1)\n",
    "\n",
    "\n",
    "    def get(self, path):\n",
    "        return requests.get(self.URL+path, auth=self.auth, verify=False).text\n",
    "    \n",
    "    def put(self, path, data):\n",
    "        return requests.put(self.URL+path, auth=self.auth, data=data, verify=False)\n",
    "    \n",
    "    def post(self, path, data):\n",
    "        return requests.post(self.URL+path, auth=self.auth, data=data, verify=False)\n",
    "    \n",
    "    def get_asset(self):\n",
    "        dt_text = self.get(\"asset?columns=ASSET_DATABASE_ID&columns=LABEL&columns=TYPE&columns=LAST_CLOSE_VALUE_IN_CURR&columns=CURRENCY&date=2016-06-01\")\n",
    "        dt = json.loads(dt_text)\n",
    "        df = []\n",
    "        for i in range(len(dt)):\n",
    "            tmp = {}\n",
    "            for key in dt[i]:\n",
    "                tmp[key] = dt[i][key][\"value\"]\n",
    "            df.append(tmp)\n",
    "        df = pd.DataFrame(df)\n",
    "        return df\n",
    "    \n",
    "    def get_asset_id(self, uid):\n",
    "        dt_text = self.get(f\"asset/{uid}\")\n",
    "        dt = json.loads(dt_text)\n",
    "        df={}\n",
    "        for key in dt:\n",
    "            df[key] = dt[key][\"value\"]\n",
    "        #df = pd.DataFrame(df)\n",
    "        return df\n",
    "    \n",
    "    def get_asset_id_quote(self, uid):\n",
    "        dt_text = self.get(f\"asset/{uid}/quote\")\n",
    "        dt = json.loads(dt_text)\n",
    "        df = []\n",
    "        for i in range(len(dt)):\n",
    "            tmp = {}\n",
    "            for key in dt[i]:\n",
    "                tmp[key] = dt[i][key][\"value\"]\n",
    "            df.append(tmp)\n",
    "        df = pd.DataFrame(df)\n",
    "        df['date'] = pd.to_datetime(df['date'])\n",
    "        df = df.set_index('date')\n",
    "        #l = [\"ask\" ,\"asset\" ,\"bid\" ,\"close\" ,\"feed_source\" ,\"gross\" ,\"high\" ,\"low\",\"nav\" ,\"open\", \"pl\" ,\"real_close_price\" ,\"return\" ,\"volume\"]\n",
    "        l = [\"return\",\"nav\"]\n",
    "        for elt in l:\n",
    "            df[elt] = df[elt].str.replace(',', '.').astype(float)\n",
    "        return df\n",
    "    \n",
    "    def get_ratio(self):\n",
    "        self.get(\"ratio\")\n",
    "    \n",
    "    def sharpe(self, df, taux_sans_risque, periode=30):\n",
    "        df['Log_Ret'] = np.log(df['close'] / df['close'].shift(1))\n",
    "        df['Volatility'] = df['Log_Ret'].rolling(window=periode).std() * np.sqrt(periode)\n",
    "        sharpe = (df[\"return\"] - taux_sans_risque[\"1 mois\"])/df[\"Volatility\"]\n",
    "        return sharpe\n",
    "    \n",
    "    def get_portfolio(self):\n",
    "        resp = self.get(\"portfolio/1827/dyn_amount_compo\")\n",
    "        return resp\n",
    "\n",
    "    def push(self, data):\n",
    "        return self.put(\"portfolio/1827/dyn_amount_compo\", data)\n",
    "    \n",
    "    def get_ratios(self, ref=False):\n",
    "        data = {\n",
    "            \"ratio\": [9, 12, 10],\n",
    "            \"asset\": [1827, 2201],\n",
    "            \"start_date\": \"2016-06-01\",\n",
    "            \"end_date\": \"2020-09-30\",\n",
    "            \"frequency\": \"daily\"\n",
    "        }\n",
    "        return self.post(\"ratio/invoke\", json.dumps(data)).text\n",
    "    \n",
    "    def change_currency(self, c_in, c_out):\n",
    "        url = f\"currency/rate/{c_in}/to/{c_out}?date=2016-06-01\"\n",
    "        js = json.loads(self.get(url))[\"rate\"][\"value\"].replace(\",\", \".\")\n",
    "        return float(js)\n",
    "        \n",
    "\n",
    "req = RESTManager()"
   ]
  },
  {
   "cell_type": "code",
   "execution_count": 4,
   "metadata": {
    "scrolled": true
   },
   "outputs": [
    {
     "data": {
      "text/html": [
       "<div>\n",
       "<style scoped>\n",
       "    .dataframe tbody tr th:only-of-type {\n",
       "        vertical-align: middle;\n",
       "    }\n",
       "\n",
       "    .dataframe tbody tr th {\n",
       "        vertical-align: top;\n",
       "    }\n",
       "\n",
       "    .dataframe thead th {\n",
       "        text-align: right;\n",
       "    }\n",
       "</style>\n",
       "<table border=\"1\" class=\"dataframe\">\n",
       "  <thead>\n",
       "    <tr style=\"text-align: right;\">\n",
       "      <th></th>\n",
       "      <th>ASSET_DATABASE_ID</th>\n",
       "      <th>CURRENCY</th>\n",
       "      <th>LABEL</th>\n",
       "      <th>LAST_CLOSE_VALUE_IN_CURR</th>\n",
       "      <th>TYPE</th>\n",
       "    </tr>\n",
       "  </thead>\n",
       "  <tbody>\n",
       "    <tr>\n",
       "      <th>0</th>\n",
       "      <td>1845</td>\n",
       "      <td>EUR</td>\n",
       "      <td>1&amp;1 DRILLISCH AG</td>\n",
       "      <td>36,851 EUR</td>\n",
       "      <td>STOCK</td>\n",
       "    </tr>\n",
       "    <tr>\n",
       "      <th>1</th>\n",
       "      <td>1846</td>\n",
       "      <td>EUR</td>\n",
       "      <td>1000MERCIS</td>\n",
       "      <td>40,9 EUR</td>\n",
       "      <td>STOCK</td>\n",
       "    </tr>\n",
       "    <tr>\n",
       "      <th>2</th>\n",
       "      <td>2122</td>\n",
       "      <td>EUR</td>\n",
       "      <td>1818-VEGA EUR CO</td>\n",
       "      <td>39,37 EUR</td>\n",
       "      <td>FUND</td>\n",
       "    </tr>\n",
       "    <tr>\n",
       "      <th>3</th>\n",
       "      <td>2123</td>\n",
       "      <td>EUR</td>\n",
       "      <td>29 HAUSSMANN CROISSANCE EUROPE D</td>\n",
       "      <td>1670,65 EUR</td>\n",
       "      <td>FUND</td>\n",
       "    </tr>\n",
       "    <tr>\n",
       "      <th>4</th>\n",
       "      <td>2124</td>\n",
       "      <td>EUR</td>\n",
       "      <td>29 HAUSSMANN EQUILIBRE</td>\n",
       "      <td>NaN</td>\n",
       "      <td>FUND</td>\n",
       "    </tr>\n",
       "    <tr>\n",
       "      <th>5</th>\n",
       "      <td>1428</td>\n",
       "      <td>EUR</td>\n",
       "      <td>AAA - ACTIONS AGRO ALIM.I FCP</td>\n",
       "      <td>NaN</td>\n",
       "      <td>FUND</td>\n",
       "    </tr>\n",
       "    <tr>\n",
       "      <th>6</th>\n",
       "      <td>1847</td>\n",
       "      <td>EUR</td>\n",
       "      <td>AALBERTS INDS</td>\n",
       "      <td>31,7 EUR</td>\n",
       "      <td>STOCK</td>\n",
       "    </tr>\n",
       "    <tr>\n",
       "      <th>7</th>\n",
       "      <td>1848</td>\n",
       "      <td>EUR</td>\n",
       "      <td>AAREAL BANK AG</td>\n",
       "      <td>32,81 EUR</td>\n",
       "      <td>STOCK</td>\n",
       "    </tr>\n",
       "    <tr>\n",
       "      <th>8</th>\n",
       "      <td>1849</td>\n",
       "      <td>EUR</td>\n",
       "      <td>ABC ARBITRAGE</td>\n",
       "      <td>6,73 EUR</td>\n",
       "      <td>STOCK</td>\n",
       "    </tr>\n",
       "    <tr>\n",
       "      <th>9</th>\n",
       "      <td>2154</td>\n",
       "      <td>USD</td>\n",
       "      <td>ABERDEEN CHINA EQUITY A2</td>\n",
       "      <td>20,9896 USD</td>\n",
       "      <td>FUND</td>\n",
       "    </tr>\n",
       "    <tr>\n",
       "      <th>10</th>\n",
       "      <td>2155</td>\n",
       "      <td>USD</td>\n",
       "      <td>ABERDEEN FUNDS GLOBAL PHARMA EQUITY - A</td>\n",
       "      <td>NaN</td>\n",
       "      <td>FUND</td>\n",
       "    </tr>\n",
       "    <tr>\n",
       "      <th>11</th>\n",
       "      <td>2125</td>\n",
       "      <td>EUR</td>\n",
       "      <td>ABERDEEN GLOBAL ASIA PACIFIC EQUITY E2</td>\n",
       "      <td>NaN</td>\n",
       "      <td>FUND</td>\n",
       "    </tr>\n",
       "    <tr>\n",
       "      <th>12</th>\n",
       "      <td>2126</td>\n",
       "      <td>EUR</td>\n",
       "      <td>ABERDEEN GLOBAL - ASIA PACIFIC EQU - X ACC (EUR)</td>\n",
       "      <td>NaN</td>\n",
       "      <td>FUND</td>\n",
       "    </tr>\n",
       "    <tr>\n",
       "      <th>13</th>\n",
       "      <td>2156</td>\n",
       "      <td>USD</td>\n",
       "      <td>ABERDEEN GLOBAL - EMERGING MARKETS BOND - A AC...</td>\n",
       "      <td>39,6053 USD</td>\n",
       "      <td>FUND</td>\n",
       "    </tr>\n",
       "    <tr>\n",
       "      <th>14</th>\n",
       "      <td>2127</td>\n",
       "      <td>EUR</td>\n",
       "      <td>ABER-GL JP E-A2=</td>\n",
       "      <td>11,7673 EUR</td>\n",
       "      <td>FUND</td>\n",
       "    </tr>\n",
       "    <tr>\n",
       "      <th>15</th>\n",
       "      <td>2128</td>\n",
       "      <td>EUR</td>\n",
       "      <td>ABN - EURO TREASURY - C (EUR)</td>\n",
       "      <td>35,7738 EUR</td>\n",
       "      <td>FUND</td>\n",
       "    </tr>\n",
       "    <tr>\n",
       "      <th>16</th>\n",
       "      <td>2129</td>\n",
       "      <td>EUR</td>\n",
       "      <td>ABN - FOM NORTH AMERICA EQ. - A (EUR)</td>\n",
       "      <td>90,93 EUR</td>\n",
       "      <td>FUND</td>\n",
       "    </tr>\n",
       "    <tr>\n",
       "      <th>17</th>\n",
       "      <td>1850</td>\n",
       "      <td>EUR</td>\n",
       "      <td>AB SCIENCE SA</td>\n",
       "      <td>16,18 EUR</td>\n",
       "      <td>STOCK</td>\n",
       "    </tr>\n",
       "    <tr>\n",
       "      <th>18</th>\n",
       "      <td>2130</td>\n",
       "      <td>EUR</td>\n",
       "      <td>ACA - HORIZON MONDE (EUR)</td>\n",
       "      <td>NaN</td>\n",
       "      <td>FUND</td>\n",
       "    </tr>\n",
       "    <tr>\n",
       "      <th>19</th>\n",
       "      <td>2131</td>\n",
       "      <td>EUR</td>\n",
       "      <td>ACA - MULTI TALENTS C (EUR)</td>\n",
       "      <td>98,8 EUR</td>\n",
       "      <td>FUND</td>\n",
       "    </tr>\n",
       "    <tr>\n",
       "      <th>20</th>\n",
       "      <td>2062</td>\n",
       "      <td>USD</td>\n",
       "      <td>ACCENTURE PLC-A</td>\n",
       "      <td>119,01 USD</td>\n",
       "      <td>STOCK</td>\n",
       "    </tr>\n",
       "    <tr>\n",
       "      <th>21</th>\n",
       "      <td>1429</td>\n",
       "      <td>EUR</td>\n",
       "      <td>ACCOR SA</td>\n",
       "      <td>37,42 EUR</td>\n",
       "      <td>STOCK</td>\n",
       "    </tr>\n",
       "    <tr>\n",
       "      <th>22</th>\n",
       "      <td>1851</td>\n",
       "      <td>EUR</td>\n",
       "      <td>ACTEOS</td>\n",
       "      <td>1,2 EUR</td>\n",
       "      <td>STOCK</td>\n",
       "    </tr>\n",
       "    <tr>\n",
       "      <th>23</th>\n",
       "      <td>1852</td>\n",
       "      <td>EUR</td>\n",
       "      <td>ACTIA GROUP</td>\n",
       "      <td>5,59 EUR</td>\n",
       "      <td>STOCK</td>\n",
       "    </tr>\n",
       "    <tr>\n",
       "      <th>24</th>\n",
       "      <td>2063</td>\n",
       "      <td>USD</td>\n",
       "      <td>ACTIVISION BLIZZ</td>\n",
       "      <td>38,65 USD</td>\n",
       "      <td>STOCK</td>\n",
       "    </tr>\n",
       "    <tr>\n",
       "      <th>25</th>\n",
       "      <td>1430</td>\n",
       "      <td>EUR</td>\n",
       "      <td>ADIDAS AG</td>\n",
       "      <td>115,921 EUR</td>\n",
       "      <td>STOCK</td>\n",
       "    </tr>\n",
       "    <tr>\n",
       "      <th>26</th>\n",
       "      <td>1853</td>\n",
       "      <td>EUR</td>\n",
       "      <td>ADLPARTNER</td>\n",
       "      <td>15,7 EUR</td>\n",
       "      <td>STOCK</td>\n",
       "    </tr>\n",
       "    <tr>\n",
       "      <th>27</th>\n",
       "      <td>2064</td>\n",
       "      <td>USD</td>\n",
       "      <td>ADOBE INC</td>\n",
       "      <td>100,04 USD</td>\n",
       "      <td>STOCK</td>\n",
       "    </tr>\n",
       "    <tr>\n",
       "      <th>28</th>\n",
       "      <td>1855</td>\n",
       "      <td>EUR</td>\n",
       "      <td>ADOMOS</td>\n",
       "      <td>NaN</td>\n",
       "      <td>STOCK</td>\n",
       "    </tr>\n",
       "    <tr>\n",
       "      <th>29</th>\n",
       "      <td>1431</td>\n",
       "      <td>EUR</td>\n",
       "      <td>ADP</td>\n",
       "      <td>106,75 EUR</td>\n",
       "      <td>STOCK</td>\n",
       "    </tr>\n",
       "    <tr>\n",
       "      <th>...</th>\n",
       "      <td>...</td>\n",
       "      <td>...</td>\n",
       "      <td>...</td>\n",
       "      <td>...</td>\n",
       "      <td>...</td>\n",
       "    </tr>\n",
       "    <tr>\n",
       "      <th>450</th>\n",
       "      <td>2119</td>\n",
       "      <td>JPY</td>\n",
       "      <td>SEVEN &amp; I HOLDIN</td>\n",
       "      <td>4697 JPY</td>\n",
       "      <td>STOCK</td>\n",
       "    </tr>\n",
       "    <tr>\n",
       "      <th>451</th>\n",
       "      <td>2120</td>\n",
       "      <td>JPY</td>\n",
       "      <td>SHISEIDO CO LTD</td>\n",
       "      <td>2892 JPY</td>\n",
       "      <td>STOCK</td>\n",
       "    </tr>\n",
       "    <tr>\n",
       "      <th>452</th>\n",
       "      <td>1765</td>\n",
       "      <td>EUR</td>\n",
       "      <td>SIEMENS AG</td>\n",
       "      <td>96,763 EUR</td>\n",
       "      <td>STOCK</td>\n",
       "    </tr>\n",
       "    <tr>\n",
       "      <th>453</th>\n",
       "      <td>1771</td>\n",
       "      <td>EUR</td>\n",
       "      <td>SOCIETE GENERALE ORD</td>\n",
       "      <td>36,16 EUR</td>\n",
       "      <td>STOCK</td>\n",
       "    </tr>\n",
       "    <tr>\n",
       "      <th>454</th>\n",
       "      <td>1772</td>\n",
       "      <td>EUR</td>\n",
       "      <td>SODEXO ORD</td>\n",
       "      <td>94,83 EUR</td>\n",
       "      <td>STOCK</td>\n",
       "    </tr>\n",
       "    <tr>\n",
       "      <th>455</th>\n",
       "      <td>1773</td>\n",
       "      <td>EUR</td>\n",
       "      <td>SOLVAY SA-A</td>\n",
       "      <td>88,99 EUR</td>\n",
       "      <td>STOCK</td>\n",
       "    </tr>\n",
       "    <tr>\n",
       "      <th>456</th>\n",
       "      <td>2197</td>\n",
       "      <td>USD</td>\n",
       "      <td>STXE Sml 200 $ NRt</td>\n",
       "      <td>378,99 USD</td>\n",
       "      <td>INDEX</td>\n",
       "    </tr>\n",
       "    <tr>\n",
       "      <th>457</th>\n",
       "      <td>1776</td>\n",
       "      <td>EUR</td>\n",
       "      <td>SUEZ ENVIRONNEMENT ORD</td>\n",
       "      <td>14,865 EUR</td>\n",
       "      <td>STOCK</td>\n",
       "    </tr>\n",
       "    <tr>\n",
       "      <th>458</th>\n",
       "      <td>1777</td>\n",
       "      <td>EUR</td>\n",
       "      <td>SYCOMORE EUROPEAN GROWTH I</td>\n",
       "      <td>358,29 EUR</td>\n",
       "      <td>FUND</td>\n",
       "    </tr>\n",
       "    <tr>\n",
       "      <th>459</th>\n",
       "      <td>1778</td>\n",
       "      <td>EUR</td>\n",
       "      <td>SYCOMORE L/S MARK.NEUTRA.I FCP</td>\n",
       "      <td>107,8 EUR</td>\n",
       "      <td>FUND</td>\n",
       "    </tr>\n",
       "    <tr>\n",
       "      <th>460</th>\n",
       "      <td>1779</td>\n",
       "      <td>EUR</td>\n",
       "      <td>SYCOMORE-SY P-IB</td>\n",
       "      <td>1624,31 EUR</td>\n",
       "      <td>FUND</td>\n",
       "    </tr>\n",
       "    <tr>\n",
       "      <th>461</th>\n",
       "      <td>1781</td>\n",
       "      <td>EUR</td>\n",
       "      <td>TELEFONICA</td>\n",
       "      <td>9,188 EUR</td>\n",
       "      <td>STOCK</td>\n",
       "    </tr>\n",
       "    <tr>\n",
       "      <th>462</th>\n",
       "      <td>1782</td>\n",
       "      <td>USD</td>\n",
       "      <td>Tenaris SA</td>\n",
       "      <td>13,1288 USD</td>\n",
       "      <td>STOCK</td>\n",
       "    </tr>\n",
       "    <tr>\n",
       "      <th>463</th>\n",
       "      <td>1784</td>\n",
       "      <td>EUR</td>\n",
       "      <td>TOTAL</td>\n",
       "      <td>43,03 EUR</td>\n",
       "      <td>STOCK</td>\n",
       "    </tr>\n",
       "    <tr>\n",
       "      <th>464</th>\n",
       "      <td>1786</td>\n",
       "      <td>EUR</td>\n",
       "      <td>UNI EQUIT.EUROP.EUR CL.B1 C.3D</td>\n",
       "      <td>2788,57 EUR</td>\n",
       "      <td>FUND</td>\n",
       "    </tr>\n",
       "    <tr>\n",
       "      <th>465</th>\n",
       "      <td>1787</td>\n",
       "      <td>EUR</td>\n",
       "      <td>UNI EQUIT.WORLD EUR CL.B2 C.3D</td>\n",
       "      <td>1994,9 EUR</td>\n",
       "      <td>FUND</td>\n",
       "    </tr>\n",
       "    <tr>\n",
       "      <th>466</th>\n",
       "      <td>1788</td>\n",
       "      <td>EUR</td>\n",
       "      <td>UNI HOCHE C SI.3DEC</td>\n",
       "      <td>251,33 EUR</td>\n",
       "      <td>FUND</td>\n",
       "    </tr>\n",
       "    <tr>\n",
       "      <th>467</th>\n",
       "      <td>1789</td>\n",
       "      <td>EUR</td>\n",
       "      <td>UNILEVER</td>\n",
       "      <td>40,485 EUR</td>\n",
       "      <td>STOCK</td>\n",
       "    </tr>\n",
       "    <tr>\n",
       "      <th>468</th>\n",
       "      <td>1791</td>\n",
       "      <td>EUR</td>\n",
       "      <td>VEOLIA ENVIRONNEMENT</td>\n",
       "      <td>20,39 EUR</td>\n",
       "      <td>STOCK</td>\n",
       "    </tr>\n",
       "    <tr>\n",
       "      <th>469</th>\n",
       "      <td>1792</td>\n",
       "      <td>EUR</td>\n",
       "      <td>VINCI</td>\n",
       "      <td>67,2 EUR</td>\n",
       "      <td>STOCK</td>\n",
       "    </tr>\n",
       "    <tr>\n",
       "      <th>470</th>\n",
       "      <td>1793</td>\n",
       "      <td>EUR</td>\n",
       "      <td>VIVENDI</td>\n",
       "      <td>17,67 EUR</td>\n",
       "      <td>STOCK</td>\n",
       "    </tr>\n",
       "    <tr>\n",
       "      <th>471</th>\n",
       "      <td>1794</td>\n",
       "      <td>EUR</td>\n",
       "      <td>VOLKSWAGEN</td>\n",
       "      <td>131,8 EUR</td>\n",
       "      <td>STOCK</td>\n",
       "    </tr>\n",
       "    <tr>\n",
       "      <th>472</th>\n",
       "      <td>1940</td>\n",
       "      <td>EUR</td>\n",
       "      <td>VOLTALIA</td>\n",
       "      <td>8,9 EUR</td>\n",
       "      <td>STOCK</td>\n",
       "    </tr>\n",
       "    <tr>\n",
       "      <th>473</th>\n",
       "      <td>1906</td>\n",
       "      <td>EUR</td>\n",
       "      <td>VRANKEN POMMERY</td>\n",
       "      <td>24,2 EUR</td>\n",
       "      <td>STOCK</td>\n",
       "    </tr>\n",
       "    <tr>\n",
       "      <th>474</th>\n",
       "      <td>2097</td>\n",
       "      <td>USD</td>\n",
       "      <td>XPO LOGISTICS IN</td>\n",
       "      <td>28,49 USD</td>\n",
       "      <td>STOCK</td>\n",
       "    </tr>\n",
       "    <tr>\n",
       "      <th>475</th>\n",
       "      <td>1879</td>\n",
       "      <td>EUR</td>\n",
       "      <td>YAMANA GOLD INC</td>\n",
       "      <td>3,78 EUR</td>\n",
       "      <td>STOCK</td>\n",
       "    </tr>\n",
       "    <tr>\n",
       "      <th>476</th>\n",
       "      <td>1997</td>\n",
       "      <td>EUR</td>\n",
       "      <td>YMAGIS SA</td>\n",
       "      <td>9,46 EUR</td>\n",
       "      <td>STOCK</td>\n",
       "    </tr>\n",
       "    <tr>\n",
       "      <th>477</th>\n",
       "      <td>1991</td>\n",
       "      <td>EUR</td>\n",
       "      <td>ZCCM INVESTMEN - B</td>\n",
       "      <td>1 EUR</td>\n",
       "      <td>STOCK</td>\n",
       "    </tr>\n",
       "    <tr>\n",
       "      <th>478</th>\n",
       "      <td>2106</td>\n",
       "      <td>USD</td>\n",
       "      <td>ZOETIS INC</td>\n",
       "      <td>47,85 USD</td>\n",
       "      <td>STOCK</td>\n",
       "    </tr>\n",
       "    <tr>\n",
       "      <th>479</th>\n",
       "      <td>1984</td>\n",
       "      <td>EUR</td>\n",
       "      <td>ZOOPLUS AG</td>\n",
       "      <td>129,9 EUR</td>\n",
       "      <td>STOCK</td>\n",
       "    </tr>\n",
       "  </tbody>\n",
       "</table>\n",
       "<p>480 rows × 5 columns</p>\n",
       "</div>"
      ],
      "text/plain": [
       "    ASSET_DATABASE_ID CURRENCY  \\\n",
       "0                1845      EUR   \n",
       "1                1846      EUR   \n",
       "2                2122      EUR   \n",
       "3                2123      EUR   \n",
       "4                2124      EUR   \n",
       "5                1428      EUR   \n",
       "6                1847      EUR   \n",
       "7                1848      EUR   \n",
       "8                1849      EUR   \n",
       "9                2154      USD   \n",
       "10               2155      USD   \n",
       "11               2125      EUR   \n",
       "12               2126      EUR   \n",
       "13               2156      USD   \n",
       "14               2127      EUR   \n",
       "15               2128      EUR   \n",
       "16               2129      EUR   \n",
       "17               1850      EUR   \n",
       "18               2130      EUR   \n",
       "19               2131      EUR   \n",
       "20               2062      USD   \n",
       "21               1429      EUR   \n",
       "22               1851      EUR   \n",
       "23               1852      EUR   \n",
       "24               2063      USD   \n",
       "25               1430      EUR   \n",
       "26               1853      EUR   \n",
       "27               2064      USD   \n",
       "28               1855      EUR   \n",
       "29               1431      EUR   \n",
       "..                ...      ...   \n",
       "450              2119      JPY   \n",
       "451              2120      JPY   \n",
       "452              1765      EUR   \n",
       "453              1771      EUR   \n",
       "454              1772      EUR   \n",
       "455              1773      EUR   \n",
       "456              2197      USD   \n",
       "457              1776      EUR   \n",
       "458              1777      EUR   \n",
       "459              1778      EUR   \n",
       "460              1779      EUR   \n",
       "461              1781      EUR   \n",
       "462              1782      USD   \n",
       "463              1784      EUR   \n",
       "464              1786      EUR   \n",
       "465              1787      EUR   \n",
       "466              1788      EUR   \n",
       "467              1789      EUR   \n",
       "468              1791      EUR   \n",
       "469              1792      EUR   \n",
       "470              1793      EUR   \n",
       "471              1794      EUR   \n",
       "472              1940      EUR   \n",
       "473              1906      EUR   \n",
       "474              2097      USD   \n",
       "475              1879      EUR   \n",
       "476              1997      EUR   \n",
       "477              1991      EUR   \n",
       "478              2106      USD   \n",
       "479              1984      EUR   \n",
       "\n",
       "                                                 LABEL  \\\n",
       "0                                     1&1 DRILLISCH AG   \n",
       "1                                           1000MERCIS   \n",
       "2                                     1818-VEGA EUR CO   \n",
       "3                     29 HAUSSMANN CROISSANCE EUROPE D   \n",
       "4                               29 HAUSSMANN EQUILIBRE   \n",
       "5                        AAA - ACTIONS AGRO ALIM.I FCP   \n",
       "6                                        AALBERTS INDS   \n",
       "7                                       AAREAL BANK AG   \n",
       "8                                        ABC ARBITRAGE   \n",
       "9                             ABERDEEN CHINA EQUITY A2   \n",
       "10             ABERDEEN FUNDS GLOBAL PHARMA EQUITY - A   \n",
       "11              ABERDEEN GLOBAL ASIA PACIFIC EQUITY E2   \n",
       "12    ABERDEEN GLOBAL - ASIA PACIFIC EQU - X ACC (EUR)   \n",
       "13   ABERDEEN GLOBAL - EMERGING MARKETS BOND - A AC...   \n",
       "14                                    ABER-GL JP E-A2=   \n",
       "15                       ABN - EURO TREASURY - C (EUR)   \n",
       "16               ABN - FOM NORTH AMERICA EQ. - A (EUR)   \n",
       "17                                       AB SCIENCE SA   \n",
       "18                           ACA - HORIZON MONDE (EUR)   \n",
       "19                         ACA - MULTI TALENTS C (EUR)   \n",
       "20                                     ACCENTURE PLC-A   \n",
       "21                                            ACCOR SA   \n",
       "22                                              ACTEOS   \n",
       "23                                         ACTIA GROUP   \n",
       "24                                    ACTIVISION BLIZZ   \n",
       "25                                           ADIDAS AG   \n",
       "26                                          ADLPARTNER   \n",
       "27                                           ADOBE INC   \n",
       "28                                              ADOMOS   \n",
       "29                                                 ADP   \n",
       "..                                                 ...   \n",
       "450                                   SEVEN & I HOLDIN   \n",
       "451                                    SHISEIDO CO LTD   \n",
       "452                                         SIEMENS AG   \n",
       "453                               SOCIETE GENERALE ORD   \n",
       "454                                         SODEXO ORD   \n",
       "455                                        SOLVAY SA-A   \n",
       "456                                 STXE Sml 200 $ NRt   \n",
       "457                             SUEZ ENVIRONNEMENT ORD   \n",
       "458                         SYCOMORE EUROPEAN GROWTH I   \n",
       "459                     SYCOMORE L/S MARK.NEUTRA.I FCP   \n",
       "460                                   SYCOMORE-SY P-IB   \n",
       "461                                         TELEFONICA   \n",
       "462                                         Tenaris SA   \n",
       "463                                              TOTAL   \n",
       "464                     UNI EQUIT.EUROP.EUR CL.B1 C.3D   \n",
       "465                     UNI EQUIT.WORLD EUR CL.B2 C.3D   \n",
       "466                                UNI HOCHE C SI.3DEC   \n",
       "467                                           UNILEVER   \n",
       "468                               VEOLIA ENVIRONNEMENT   \n",
       "469                                              VINCI   \n",
       "470                                            VIVENDI   \n",
       "471                                         VOLKSWAGEN   \n",
       "472                                           VOLTALIA   \n",
       "473                                    VRANKEN POMMERY   \n",
       "474                                   XPO LOGISTICS IN   \n",
       "475                                    YAMANA GOLD INC   \n",
       "476                                          YMAGIS SA   \n",
       "477                                 ZCCM INVESTMEN - B   \n",
       "478                                         ZOETIS INC   \n",
       "479                                         ZOOPLUS AG   \n",
       "\n",
       "    LAST_CLOSE_VALUE_IN_CURR   TYPE  \n",
       "0                 36,851 EUR  STOCK  \n",
       "1                   40,9 EUR  STOCK  \n",
       "2                  39,37 EUR   FUND  \n",
       "3                1670,65 EUR   FUND  \n",
       "4                        NaN   FUND  \n",
       "5                        NaN   FUND  \n",
       "6                   31,7 EUR  STOCK  \n",
       "7                  32,81 EUR  STOCK  \n",
       "8                   6,73 EUR  STOCK  \n",
       "9                20,9896 USD   FUND  \n",
       "10                       NaN   FUND  \n",
       "11                       NaN   FUND  \n",
       "12                       NaN   FUND  \n",
       "13               39,6053 USD   FUND  \n",
       "14               11,7673 EUR   FUND  \n",
       "15               35,7738 EUR   FUND  \n",
       "16                 90,93 EUR   FUND  \n",
       "17                 16,18 EUR  STOCK  \n",
       "18                       NaN   FUND  \n",
       "19                  98,8 EUR   FUND  \n",
       "20                119,01 USD  STOCK  \n",
       "21                 37,42 EUR  STOCK  \n",
       "22                   1,2 EUR  STOCK  \n",
       "23                  5,59 EUR  STOCK  \n",
       "24                 38,65 USD  STOCK  \n",
       "25               115,921 EUR  STOCK  \n",
       "26                  15,7 EUR  STOCK  \n",
       "27                100,04 USD  STOCK  \n",
       "28                       NaN  STOCK  \n",
       "29                106,75 EUR  STOCK  \n",
       "..                       ...    ...  \n",
       "450                 4697 JPY  STOCK  \n",
       "451                 2892 JPY  STOCK  \n",
       "452               96,763 EUR  STOCK  \n",
       "453                36,16 EUR  STOCK  \n",
       "454                94,83 EUR  STOCK  \n",
       "455                88,99 EUR  STOCK  \n",
       "456               378,99 USD  INDEX  \n",
       "457               14,865 EUR  STOCK  \n",
       "458               358,29 EUR   FUND  \n",
       "459                107,8 EUR   FUND  \n",
       "460              1624,31 EUR   FUND  \n",
       "461                9,188 EUR  STOCK  \n",
       "462              13,1288 USD  STOCK  \n",
       "463                43,03 EUR  STOCK  \n",
       "464              2788,57 EUR   FUND  \n",
       "465               1994,9 EUR   FUND  \n",
       "466               251,33 EUR   FUND  \n",
       "467               40,485 EUR  STOCK  \n",
       "468                20,39 EUR  STOCK  \n",
       "469                 67,2 EUR  STOCK  \n",
       "470                17,67 EUR  STOCK  \n",
       "471                131,8 EUR  STOCK  \n",
       "472                  8,9 EUR  STOCK  \n",
       "473                 24,2 EUR  STOCK  \n",
       "474                28,49 USD  STOCK  \n",
       "475                 3,78 EUR  STOCK  \n",
       "476                 9,46 EUR  STOCK  \n",
       "477                    1 EUR  STOCK  \n",
       "478                47,85 USD  STOCK  \n",
       "479                129,9 EUR  STOCK  \n",
       "\n",
       "[480 rows x 5 columns]"
      ]
     },
     "execution_count": 4,
     "metadata": {},
     "output_type": "execute_result"
    }
   ],
   "source": [
    "df_asset = req.get_asset()\n",
    "df_asset"
   ]
  },
  {
   "cell_type": "markdown",
   "metadata": {},
   "source": [
    "# Optimisation de portefeuille"
   ]
  },
  {
   "cell_type": "code",
   "execution_count": 5,
   "metadata": {},
   "outputs": [],
   "source": [
    "def sharpe(w,mat_return):\n",
    "    mat_cov = np.cov(mat_return)# * mat_return.shape[1]\n",
    "\n",
    "\n",
    "    if w.ndim != 1:\n",
    "        variance = []\n",
    "        for i in range(w.shape[0]):\n",
    "            variance.append(w[i] @ mat_cov @ w[i].T)\n",
    "    else:\n",
    "        variance = w @ mat_cov @ w.T\n",
    "        \n",
    "    variance = np.array(variance)\n",
    "    std = np.sqrt(variance)\n",
    "    average_rend = mat_return.mean(axis=1)\n",
    "    \n",
    "    return (variance, std, average_rend@w.T)\n"
   ]
  },
  {
   "cell_type": "markdown",
   "metadata": {},
   "source": [
    "# rendement & volatilité\n",
    "\n",
    "Commençons par calculer la volatilité et le rendement de chaque actif pour pouvoir etablir un classement.\n",
    "\n",
    "## 1) Récuperation des rendements"
   ]
  },
  {
   "cell_type": "code",
   "execution_count": 6,
   "metadata": {},
   "outputs": [],
   "source": [
    "list_id = df_asset[\"ASSET_DATABASE_ID\"].values\n",
    "l_id = []\n",
    "\n",
    "#Pour avoir l'index\n",
    "a = req.get_asset_id_quote(list_id[0])[[\"return\"]]\n",
    "list_return = pd.DataFrame(index=a.index)\n",
    "list_nav = pd.DataFrame(index=a.index)\n",
    "\n",
    "\n",
    "for elt in list_id:\n",
    "    if elt != \"1827\":\n",
    "        try:\n",
    "            df_tmp = req.get_asset_id_quote(elt)\n",
    "            list_return[elt] = df_tmp[\"return\"]\n",
    "            list_nav[elt] = df_tmp[\"nav\"]\n",
    "            l_id.append(elt)\n",
    "        except:\n",
    "            pass\n",
    "l_id = np.array(l_id)\n",
    "list_nav = list_nav.fillna(method='ffill')"
   ]
  },
  {
   "cell_type": "code",
   "execution_count": 7,
   "metadata": {},
   "outputs": [
    {
     "name": "stdout",
     "output_type": "stream",
     "text": [
      "(472,)\n",
      "(1898, 472)\n"
     ]
    }
   ],
   "source": [
    "print(l_id.shape)\n",
    "print(list_return.shape)"
   ]
  },
  {
   "cell_type": "markdown",
   "metadata": {},
   "source": [
    "on veut le rendement sur 2016-06-01 jusqu'a 2020-09-30"
   ]
  },
  {
   "cell_type": "code",
   "execution_count": 8,
   "metadata": {},
   "outputs": [],
   "source": [
    "import datetime as dt\n",
    "start = dt.datetime.strptime('2016-06-01', '%Y-%m-%d')\n",
    "end = dt.datetime.strptime('2020-09-30', '%Y-%m-%d')\n",
    "sdf = (list_return.index > start) & (list_return.index < end)\n",
    "\n",
    "l_return = list_return.loc[sdf]\n",
    "l_return = l_return.fillna(0)"
   ]
  },
  {
   "cell_type": "markdown",
   "metadata": {},
   "source": [
    "## 2) Classement"
   ]
  },
  {
   "cell_type": "code",
   "execution_count": 9,
   "metadata": {},
   "outputs": [
    {
     "data": {
      "text/plain": [
       "(472,)"
      ]
     },
     "execution_count": 9,
     "metadata": {},
     "output_type": "execute_result"
    }
   ],
   "source": [
    "rend_l = l_return.values.mean(axis=0)\n",
    "std_l = l_return.values.std(axis=0)\n",
    "rend_l.shape"
   ]
  },
  {
   "cell_type": "code",
   "execution_count": 10,
   "metadata": {},
   "outputs": [
    {
     "data": {
      "text/plain": [
       "<matplotlib.collections.PathCollection at 0x7f038902a780>"
      ]
     },
     "execution_count": 10,
     "metadata": {},
     "output_type": "execute_result"
    },
    {
     "data": {
      "image/png": "[encoded data removed]",
      "text/plain": [
       "<Figure size 432x288 with 1 Axes>"
      ]
     },
     "metadata": {
      "needs_background": "light"
     },
     "output_type": "display_data"
    }
   ],
   "source": [
    "plt.scatter(std_l,rend_l, alpha=0.5)"
   ]
  },
  {
   "cell_type": "markdown",
   "metadata": {},
   "source": [
    "Lors du classement on va favoriser les rendements a la volatilité"
   ]
  },
  {
   "cell_type": "code",
   "execution_count": 11,
   "metadata": {},
   "outputs": [],
   "source": [
    "sort_rend = np.argsort(rend_l)\n",
    "sort_std = np.argsort(std_l)\n",
    "\n",
    "#classement\n",
    "classement = np.zeros_like(sort_rend)\n",
    "for i in range(len(sort_rend)):\n",
    "    classement[sort_rend[i]] += i*30\n",
    "    classement[sort_std[len(sort_rend)-1-i]] += i"
   ]
  },
  {
   "cell_type": "markdown",
   "metadata": {},
   "source": [
    "## 3) Methode Naive (n=2)\n",
    "\n",
    "Notre premiere approche est une methode dit \"Brute force\".  \n",
    "En effet, nous allons essayer toute les possibilités, pour a la fin recupérer celle avec\n",
    "la volatilité la plus faible."
   ]
  },
  {
   "cell_type": "code",
   "execution_count": 12,
   "metadata": {},
   "outputs": [
    {
     "data": {
      "text/plain": [
       "<matplotlib.collections.PathCollection at 0x7f0388b0a438>"
      ]
     },
     "execution_count": 12,
     "metadata": {},
     "output_type": "execute_result"
    },
    {
     "data": {
      "image/png": "[encoded data removed]",
      "text/plain": [
       "<Figure size 432x288 with 1 Axes>"
      ]
     },
     "metadata": {
      "needs_background": "light"
     },
     "output_type": "display_data"
    }
   ],
   "source": [
    "# on récupere les Deux meilleur\n",
    "res = np.argsort(classement)[-2:]\n",
    "\n",
    "plt.scatter(std_l,rend_l, alpha=0.5)\n",
    "plt.scatter(std_l[res],rend_l[res], c=\"red\")"
   ]
  },
  {
   "cell_type": "code",
   "execution_count": 13,
   "metadata": {},
   "outputs": [
    {
     "name": "stdout",
     "output_type": "stream",
     "text": [
      "rend: -0.0004465991983778891 & volatilité: 0.01247222437089075 -> poid: [0.36363636 0.63636364]\n"
     ]
    },
    {
     "data": {
      "text/plain": [
       "<matplotlib.collections.PathCollection at 0x7f0388c1fba8>"
      ]
     },
     "execution_count": 13,
     "metadata": {},
     "output_type": "execute_result"
    },
    {
     "data": {
      "image/png": "[encoded data removed]",
      "text/plain": [
       "<Figure size 432x288 with 1 Axes>"
      ]
     },
     "metadata": {
      "needs_background": "light"
     },
     "output_type": "display_data"
    }
   ],
   "source": [
    "#On créé une matrice avec les rendements de chaque actif en column\n",
    "mat_return = np.array(l_return.values[res])\n",
    "mat_return = np.nan_to_num(mat_return)\n",
    "\n",
    "#On va faire une list de tout les w possible\n",
    "w = np.linspace(0, 1, num=100)\n",
    "W = np.array([w, 1-w]).T\n",
    "\n",
    "variance, std, rend = sharpe(W, mat_return)\n",
    "\n",
    "#On récupere le minimum de volatilité\n",
    "minimum = np.argmin(std)\n",
    "print(f\"rend: {rend[minimum]} & volatilité: {std[minimum]} -> poid: {W[minimum]}\")\n",
    "\n",
    "plt.plot(std,rend)\n",
    "plt.scatter(std[minimum], rend[minimum], c=\"red\")"
   ]
  },
  {
   "cell_type": "markdown",
   "metadata": {},
   "source": [
    "## Methode Naive à 3 actifs (n=3) "
   ]
  },
  {
   "cell_type": "code",
   "execution_count": 14,
   "metadata": {},
   "outputs": [
    {
     "name": "stdout",
     "output_type": "stream",
     "text": [
      "[112 298 199]\n"
     ]
    },
    {
     "data": {
      "text/plain": [
       "<matplotlib.collections.PathCollection at 0x7f038915f2e8>"
      ]
     },
     "execution_count": 14,
     "metadata": {},
     "output_type": "execute_result"
    },
    {
     "data": {
      "image/png": "[encoded data removed]",
      "text/plain": [
       "<Figure size 432x288 with 1 Axes>"
      ]
     },
     "metadata": {
      "needs_background": "light"
     },
     "output_type": "display_data"
    }
   ],
   "source": [
    "import itertools\n",
    "\n",
    "w = np.linspace(0, 1, num=100)\n",
    "\n",
    "n_w = np.array(list(itertools.permutations(w, 3)))\n",
    "\n",
    "n_w = n_w[np.sum(n_w,axis=1) == 1]\n",
    "\n",
    "res = np.argsort(classement)[-3:]\n",
    "print(res)\n",
    "\n",
    "plt.scatter(std_l,rend_l, alpha=0.5)\n",
    "plt.scatter(std_l[res],rend_l[res], c=\"red\")"
   ]
  },
  {
   "cell_type": "code",
   "execution_count": 15,
   "metadata": {},
   "outputs": [],
   "source": [
    "mat_return = np.array(l_return.values[res])\n",
    "mat_return = np.nan_to_num(mat_return)\n",
    "\n",
    "variance, std, rend = sharpe(n_w, mat_return)"
   ]
  },
  {
   "cell_type": "code",
   "execution_count": 16,
   "metadata": {},
   "outputs": [
    {
     "name": "stdout",
     "output_type": "stream",
     "text": [
      "rend: 0.003307973502525167 & volatilité: 0.010300211492216297 -> poid: [0.29292929 0.26262626 0.44444444]\n"
     ]
    },
    {
     "data": {
      "text/plain": [
       "<matplotlib.collections.PathCollection at 0x7f038924bc50>"
      ]
     },
     "execution_count": 16,
     "metadata": {},
     "output_type": "execute_result"
    },
    {
     "data": {
      "image/png": "[encoded data removed]",
      "text/plain": [
       "<Figure size 432x288 with 1 Axes>"
      ]
     },
     "metadata": {
      "needs_background": "light"
     },
     "output_type": "display_data"
    }
   ],
   "source": [
    "minimum = np.argmin(std)\n",
    "\n",
    "print(f\"rend: {rend[minimum]} & volatilité: {std[minimum]} -> poid: {n_w[minimum]}\")\n",
    "\n",
    "plt.margins(x=0, y=-0.01)\n",
    "plt.scatter(std,rend,s=1, alpha=0.7)\n",
    "plt.scatter(std[minimum], rend[minimum], c=\"red\")"
   ]
  },
  {
   "cell_type": "markdown",
   "metadata": {},
   "source": [
    "# Optimization (minimal var) [avec Resolution analytique]"
   ]
  },
  {
   "cell_type": "code",
   "execution_count": 17,
   "metadata": {},
   "outputs": [],
   "source": [
    "res = np.argsort(classement)[-2:]\n",
    "mat_return = np.array(l_return.values[res])"
   ]
  },
  {
   "cell_type": "markdown",
   "metadata": {},
   "source": [
    "\n",
    "> https://www.ephiquant.com/optimisation-de-portefeuille-modele-mean-variance-de-markowitz/\n",
    "\n",
    "on cherche a optimiser le programme quadratique suivant\n",
    "\n",
    "$$ \n",
    " \\left\\{\n",
    "    \\begin{array}{ll}\n",
    "       Min \\ \\sigma^2_p(w) = w^T\\sigma w \\\\\n",
    "       w^Tu = 1\n",
    "    \\end{array}\n",
    "\\right.$$\n",
    "\n",
    "on va utiliser la méthode du multiplicateur de Lagrange:\n",
    "\n",
    "$$\n",
    "\\mathcal{L}(\\omega,\\lambda) = \\omega^\\top \\sigma \\omega - \\lambda(\\omega^\\top u-1)\n",
    "$$\n",
    "\n",
    "> où $\\lambda$ est le multiplicateur de Lagrange\n",
    "\n",
    "Nous allons ensuite calculer les dérivées partielles que nous allons spécifier égales à 0 : \n",
    "\n",
    "$$\n",
    "\\begin{cases} \\frac{\\partial\\mathcal{L}}{\\omega}= 2\\sigma\\omega-\\lambda u=0 \\quad \\text{(a)}\\\\  \\frac{\\partial\\mathcal{L}}{\\partial\\lambda}=\\omega^\\top u-1=0 \\quad\\quad\\text{(b)}\\end{cases}\n",
    "$$\n",
    "\n",
    "Nous allons d’abord tirer $\\omega$ dans l’équation (a), après quoi nous allons le remplacer dans l’équation (b) par son expression: \n",
    "\n",
    "$$\n",
    "\\begin{split} \\text{(a)} \\quad 2\\sigma\\omega-\\lambda u=0\\quad  \\implies \\omega &= \\frac{1}{2}\\lambda\\sigma^{-1}u \\\\ \\text{(b)} \\quad \\omega^\\top u-1=0 \\implies \\omega^\\top u &= 1 \\\\ \\frac{1}{2}\\lambda u^\\top\\sigma^{-1}u &=1 \\\\  \\lambda &= \\frac{2}{u^\\top\\sigma^{-1}u} \\end{split}\n",
    "$$\n",
    "\n",
    "Nous allons mettre cette dernière expression de $\\lambda$ dans l’expression de $\\omega$. Cela donnera ceci : \n",
    "\n",
    "$$\n",
    "\\begin{equation*}\\omega=\\frac{1}{2} \\bigg(\\frac{2}{u^{\\top}\\sigma^{-1}u} \\bigg) \\sigma^{-1}u \\implies \\omega=\\frac{\\sigma^{-1}u}{u^\\top\\sigma^{-1}u} \\end{equation*}\n",
    "$$"
   ]
  },
  {
   "cell_type": "code",
   "execution_count": 18,
   "metadata": {},
   "outputs": [],
   "source": [
    "# u = [1, ..., 1]"
   ]
  },
  {
   "cell_type": "code",
   "execution_count": 19,
   "metadata": {},
   "outputs": [
    {
     "data": {
      "text/plain": [
       "array([0.36105675, 0.63894325])"
      ]
     },
     "execution_count": 19,
     "metadata": {},
     "output_type": "execute_result"
    }
   ],
   "source": [
    "r = rend_l[res]\n",
    "u = np.ones(r.shape[0])\n",
    "\n",
    "sigma = np.cov(mat_return)\n",
    "sigma_inv = np.linalg.inv(sigma) \n",
    "\n",
    "w = (sigma_inv @ u) / (u.T @ sigma_inv @ u)\n",
    "w"
   ]
  },
  {
   "cell_type": "code",
   "execution_count": 20,
   "metadata": {},
   "outputs": [
    {
     "name": "stdout",
     "output_type": "stream",
     "text": [
      "rend: -0.0004465991983778891 & volatilité: 0.01247222437089075 -> poid: [0.36363636 0.63636364]\n",
      "rend: -0.0004369427732414565 & volatilité: 0.01247204980519934 -> poid: [0.36105675 0.63894325]\n"
     ]
    },
    {
     "data": {
      "image/png": "[encoded data removed]",
      "text/plain": [
       "<Figure size 432x288 with 1 Axes>"
      ]
     },
     "metadata": {
      "needs_background": "light"
     },
     "output_type": "display_data"
    }
   ],
   "source": [
    "w_ = np.linspace(0, 1, num=100)\n",
    "W = np.array([w_, 1-w_]).T\n",
    "\n",
    "variance, std, rend = sharpe(W, mat_return)\n",
    "minimum = np.argmin(std)\n",
    "print(f\"rend: {rend[minimum]} & volatilité: {std[minimum]} -> poid: {W[minimum]}\")\n",
    "\n",
    "plt.plot(std,rend)\n",
    "\n",
    "variance, std, rend = sharpe(w, mat_return)\n",
    "plt.scatter(std, rend, c=\"red\")\n",
    "print(f\"rend: {rend} & volatilité: {std} -> poid: {w}\")"
   ]
  },
  {
   "cell_type": "markdown",
   "metadata": {},
   "source": [
    "## resolution analytique avec les 15 meilleurs actifs"
   ]
  },
  {
   "cell_type": "code",
   "execution_count": 21,
   "metadata": {},
   "outputs": [
    {
     "data": {
      "text/plain": [
       "array([0.11409408, 0.04122997, 0.08851583, 0.06739106, 0.04124986,\n",
       "       0.11305451, 0.12803129, 0.04863073, 0.01108649, 0.05458294,\n",
       "       0.03439904, 0.09094654, 0.04951367, 0.0183365 , 0.09893749])"
      ]
     },
     "execution_count": 21,
     "metadata": {},
     "output_type": "execute_result"
    }
   ],
   "source": [
    "res = np.argsort(classement)[-15:]\n",
    "r = rend_l[res]\n",
    "u = np.ones(r.shape[0])\n",
    "mat_return = np.array(l_return.values[res])\n",
    "\n",
    "sigma = np.cov(mat_return)\n",
    "\n",
    "sigma_inv = np.linalg.inv(sigma) \n",
    "\n",
    "w = (sigma_inv @ u) / (u.T @ sigma_inv @ u)\n",
    "\n",
    "w"
   ]
  },
  {
   "cell_type": "code",
   "execution_count": 22,
   "metadata": {},
   "outputs": [
    {
     "name": "stdout",
     "output_type": "stream",
     "text": [
      "rend: 0.0026683773943286834 & volatilité: 0.004393268101614537 \n",
      " -> poid: [0.11409408 0.04122997 0.08851583 0.06739106 0.04124986 0.11305451\n",
      " 0.12803129 0.04863073 0.01108649 0.05458294 0.03439904 0.09094654\n",
      " 0.04951367 0.0183365  0.09893749]\n"
     ]
    }
   ],
   "source": [
    "variance, std, rend = sharpe(w, mat_return)\n",
    "print(f\"rend: {rend} & volatilité: {std} \\n -> poid: {w}\")"
   ]
  },
  {
   "cell_type": "markdown",
   "metadata": {},
   "source": [
    "## Benchmark\n",
    "\n",
    "Regardons l'influence du nombre d'actif sur le rendement et la volatilité."
   ]
  },
  {
   "cell_type": "code",
   "execution_count": 23,
   "metadata": {
    "scrolled": true
   },
   "outputs": [
    {
     "name": "stdout",
     "output_type": "stream",
     "text": [
      "[2] rend: -0.0004369427732414565 & volatilité: 0.01247204980519934\n",
      "[3] rend: 0.003367652777146972 & volatilité: 0.01029928910267818\n",
      "[4] rend: 0.0035259702482595637 & volatilité: 0.008324506342767189\n",
      "[5] rend: 0.003051527610881727 & volatilité: 0.008085443144501386\n",
      "[6] rend: 0.0035378697852437575 & volatilité: 0.007212088834941763\n",
      "[7] rend: 0.0036305010163024186 & volatilité: 0.006819057627645176\n",
      "[8] rend: 0.004124423187347633 & volatilité: 0.006187060628671193\n",
      "[9] rend: 0.0037238858405736885 & volatilité: 0.005644612595226033\n",
      "[10] rend: 0.0032948769822232784 & volatilité: 0.005282003362432458\n",
      "[11] rend: 0.003634499730351129 & volatilité: 0.0051917672983101655\n",
      "[12] rend: 0.0031529611851744536 & volatilité: 0.004975765608848374\n",
      "[13] rend: 0.0032955083359279555 & volatilité: 0.004808176275335639\n",
      "[14] rend: 0.003124527561786953 & volatilité: 0.0047468057911323955\n",
      "[15] rend: 0.0026683773943286834 & volatilité: 0.004393268101614537\n",
      "[16] rend: 0.0023886697873949534 & volatilité: 0.00398826619517309\n",
      "[17] rend: 0.001516965071806092 & volatilité: 0.0034707486543062525\n",
      "[18] rend: 0.0016200416956313373 & volatilité: 0.003413493656705634\n",
      "[19] rend: 0.0015045067614658763 & volatilité: 0.003362845031859128\n",
      "[20] rend: 0.0012419658355525814 & volatilité: 0.003129659360357299\n",
      "[21] rend: 0.001259326390623856 & volatilité: 0.0031274120176130234\n",
      "[22] rend: 0.001212851415944248 & volatilité: 0.0030479115945631356\n",
      "[23] rend: 0.001255911771780552 & volatilité: 0.0026973607582076874\n",
      "[24] rend: 0.0012589986195280934 & volatilité: 0.0026438113464560217\n",
      "[25] rend: 0.0011984878341982023 & volatilité: 0.002598160228137152\n",
      "[26] rend: 0.0009579465337992707 & volatilité: 0.002452100211483382\n",
      "[27] rend: 0.000747470155324044 & volatilité: 0.0023574053396248702\n",
      "[28] rend: 0.0007172038089371891 & volatilité: 0.002295886863920328\n",
      "[29] rend: 0.0006749380796423477 & volatilité: 0.00225602400911061\n",
      "[30] rend: 0.0007388324682202889 & volatilité: 0.0022379625016207007\n",
      "[31] rend: 0.0007780061097288793 & volatilité: 0.0022357333985838306\n",
      "[32] rend: 0.0007056559779197595 & volatilité: 0.0022174350771894443\n",
      "[33] rend: 0.0006449688477331579 & volatilité: 0.0020552570731743633\n",
      "[34] rend: 0.0006199219943999953 & volatilité: 0.002038626492018123\n",
      "[35] rend: 0.000607392025607156 & volatilité: 0.002035028152325318\n",
      "[36] rend: 0.0006225809449817485 & volatilité: 0.0019198328441810215\n",
      "[37] rend: 0.0006838143594168583 & volatilité: 0.0018905522282411983\n",
      "[38] rend: 0.0006771968300613312 & volatilité: 0.0018904179192023387\n",
      "[39] rend: 0.0007013616102321538 & volatilité: 0.0018732087795079839\n"
     ]
    },
    {
     "data": {
      "text/plain": [
       "<matplotlib.legend.Legend at 0x7f0388be7c18>"
      ]
     },
     "execution_count": 23,
     "metadata": {},
     "output_type": "execute_result"
    },
    {
     "data": {
      "image/png": "[encoded data removed]",
      "text/plain": [
       "<Figure size 432x288 with 1 Axes>"
      ]
     },
     "metadata": {
      "needs_background": "light"
     },
     "output_type": "display_data"
    }
   ],
   "source": [
    "hist = []\n",
    "for i in range(2,40,1):\n",
    "    res = np.argsort(classement)[-i:]\n",
    "    r = rend_l[res]\n",
    "    u = np.ones(r.shape[0])\n",
    "    mat_return = np.array(l_return.values[res])\n",
    "\n",
    "    sigma = np.cov(mat_return)\n",
    "    sigma_inv = np.linalg.inv(sigma) \n",
    "\n",
    "    w = (sigma_inv @ u) / (u.T @ sigma_inv @ u)\n",
    "    variance, std, rend = sharpe(w, mat_return)\n",
    "    print(f\"[{i}] rend: {rend} & volatilité: {std}\")\n",
    "    hist.append([rend, std])\n",
    "\n",
    "hist = np.array(hist)\n",
    "\n",
    "plt.plot(range(2,40,1),hist[:,0], label=\"rend\")\n",
    "plt.plot(range(2,40,1),hist[:,1], label=\"volatilité\")\n",
    "plt.xlabel(\"nb asset\")\n",
    "plt.legend()"
   ]
  },
  {
   "cell_type": "markdown",
   "metadata": {},
   "source": [
    "## Optimisation avec rendement fixé"
   ]
  },
  {
   "cell_type": "code",
   "execution_count": 24,
   "metadata": {},
   "outputs": [],
   "source": [
    "res = np.argsort(classement)[-2:]\n",
    "r = rend_l[res]\n",
    "u = np.ones(r.shape[0])\n",
    "mat_return = np.array(l_return.values[res])\n",
    "\n",
    "sigma = np.cov(mat_return)\n",
    "sigma_inv = np.linalg.inv(sigma) "
   ]
  },
  {
   "cell_type": "markdown",
   "metadata": {},
   "source": [
    "$$\n",
    "\\begin{equation*}\\omega=E\\mu_0+F\\end{equation*}\n",
    "$$\n",
    "\n",
    "avec:\n",
    "\n",
    "$$\n",
    "E=\\frac{1}{D}\\sigma^{-1}(C\\mu-Au)\\quad \\text{et} \\quad F=\\frac{1}{D}\\sigma^{-1}(-A\\mu+Bu)\n",
    "$$\n",
    "\n",
    "\n",
    "Nous allons définir \n",
    "- $A=u^\\top\\sigma^{-1}\\mu=\\mu^\\top\\sigma^{-1}u$ \n",
    "- $B=\\mu^\\top\\sigma^{-1}\\mu$ \n",
    "- $C=u^\\top\\sigma^{-1}u$\n",
    "- $D=BC-A^2$"
   ]
  },
  {
   "cell_type": "code",
   "execution_count": 25,
   "metadata": {},
   "outputs": [],
   "source": [
    "A = u.T @ sigma_inv @ r \n",
    "B = r.T @ sigma_inv @ r\n",
    "C = u.T @ sigma_inv @ u\n",
    "D = B*C - (A**2)"
   ]
  },
  {
   "cell_type": "code",
   "execution_count": 26,
   "metadata": {},
   "outputs": [
    {
     "data": {
      "text/plain": [
       "array([0.99733108, 0.00266892])"
      ]
     },
     "execution_count": 26,
     "metadata": {},
     "output_type": "execute_result"
    }
   ],
   "source": [
    "E = (1/D) * sigma_inv @ (C*r - A*u)\n",
    "F = (1/D) * sigma_inv @ (-A*r + B*u)\n",
    "\n",
    "w = E* 0.004 + F\n",
    "w"
   ]
  },
  {
   "cell_type": "code",
   "execution_count": 27,
   "metadata": {},
   "outputs": [
    {
     "name": "stdout",
     "output_type": "stream",
     "text": [
      "[39] rend: -0.002818750582300833 & volatilité: 0.02050535048138912\n"
     ]
    }
   ],
   "source": [
    "variance, std, rend = sharpe(w, mat_return)\n",
    "print(f\"[{i}] rend: {rend} & volatilité: {std}\")"
   ]
  },
  {
   "cell_type": "code",
   "execution_count": 28,
   "metadata": {},
   "outputs": [
    {
     "name": "stdout",
     "output_type": "stream",
     "text": [
      "\n"
     ]
    },
    {
     "data": {
      "image/png": "[encoded data removed]",
      "text/plain": [
       "<Figure size 432x288 with 1 Axes>"
      ]
     },
     "metadata": {
      "needs_background": "light"
     },
     "output_type": "display_data"
    }
   ],
   "source": [
    "w_ = np.linspace(0, 1, num=100)\n",
    "W = np.array([w_, 1-w_]).T\n",
    "\n",
    "\n",
    "variance, std, rend = sharpe(W, mat_return)\n",
    "\n",
    "minimum = np.argmin(std)\n",
    "plt.plot(std,rend)\n",
    "\n",
    "target_ = np.linspace(0.001, 0.005, num=100)\n",
    "best = \"\"\n",
    "\n",
    "for i in target_:\n",
    "    w = E* i + F\n",
    "    variance, std, rend = sharpe(w, mat_return)\n",
    "    if std < rend:\n",
    "        best = f\"rend: {rend} & volatilité: {std}\"\n",
    "        plt.scatter(std, rend, c=\"red\")\n",
    "    else:\n",
    "        plt.scatter(std, rend, c=\"green\")\n",
    "        \n",
    "print(best)"
   ]
  },
  {
   "cell_type": "markdown",
   "metadata": {},
   "source": [
    "En Rouge: rendement > risque  \n",
    "En Vert : rendement < risque"
   ]
  },
  {
   "cell_type": "markdown",
   "metadata": {},
   "source": [
    "## N=15"
   ]
  },
  {
   "cell_type": "code",
   "execution_count": 29,
   "metadata": {},
   "outputs": [],
   "source": [
    "res = np.argsort(classement)[-15:]\n",
    "mat_return = np.array(l_return.values[res])"
   ]
  },
  {
   "cell_type": "code",
   "execution_count": 30,
   "metadata": {},
   "outputs": [
    {
     "name": "stdout",
     "output_type": "stream",
     "text": [
      "[0.10778586 0.03592542 0.09242703 0.059778   0.05087698 0.10393058\n",
      " 0.12372796 0.05545009 0.01622113 0.06122143 0.03035973 0.09290658\n",
      " 0.05520379 0.01533894 0.09884648]\n"
     ]
    },
    {
     "data": {
      "text/plain": [
       "(array(1.94306916e-05), 0.004408025817746978, 0.0029999999999999996)"
      ]
     },
     "execution_count": 30,
     "metadata": {},
     "output_type": "execute_result"
    }
   ],
   "source": [
    "def get_w(mat_return, u_t= 0.0017):\n",
    "    r = mat_return.mean(axis=1)\n",
    "    u = np.ones(r.shape[0])\n",
    "    \n",
    "    sigma = np.cov(mat_return)\n",
    "    sigma_inv = np.linalg.inv(sigma) \n",
    "    \n",
    "    A = u.T @ sigma_inv @ r \n",
    "    B = r.T @ sigma_inv @ r\n",
    "    C = u.T @ sigma_inv @ u\n",
    "    D = B*C - (A**2)\n",
    "    \n",
    "    E = (1/D) * sigma_inv @ (C*r - A*u)\n",
    "    F = (1/D) * sigma_inv @ (-A*r + B*u)\n",
    "\n",
    "    w = E* u_t + F\n",
    "    return w\n",
    "\n",
    "\n",
    "w_20 = get_w(mat_return, 0.003)\n",
    "print(w_20)\n",
    "sharpe(w_20, mat_return)"
   ]
  },
  {
   "cell_type": "code",
   "execution_count": 31,
   "metadata": {},
   "outputs": [
    {
     "data": {
      "text/plain": [
       "False"
      ]
     },
     "execution_count": 31,
     "metadata": {},
     "output_type": "execute_result"
    }
   ],
   "source": [
    "def checking_w(w):\n",
    "    if np.sum(w<0) == 0:\n",
    "        if np.sum((w >= 0.01) & (w <= 0.1)) == w.shape[0]:\n",
    "            return True\n",
    "    return False\n",
    "\n",
    "checking_w(np.array([0.2, 0.05]))"
   ]
  },
  {
   "cell_type": "code",
   "execution_count": 47,
   "metadata": {},
   "outputs": [
    {
     "name": "stdout",
     "output_type": "stream",
     "text": [
      "15 0\n",
      "16 0\n",
      "17 0\n",
      "0.00312, 0.003123123123123123\n",
      "0.00315, 0.003153153153153153\n",
      "0.00318, 0.0031831831831831835\n",
      "0.00321, 0.0032132132132132135\n",
      "0.00324, 0.003243243243243244\n",
      "0.00327, 0.003273273273273273\n",
      "0.0033, 0.0033033033033033035\n",
      "0.00333, 0.003333333333333333\n",
      "0.00336, 0.0033633633633633636\n",
      "0.00339, 0.003393393393393394\n",
      "0.00342, 0.0034234234234234236\n",
      "0.00345, 0.003453453453453453\n",
      "0.00348, 0.003483483483483484\n",
      "0.00351, 0.003513513513513514\n",
      "0.00354, 0.003543543543543544\n",
      "0.00357, 0.0035735735735735736\n",
      "18 0\n",
      "19 0\n",
      "0.00282, 0.002822822822822823\n",
      "0.00285, 0.002852852852852853\n",
      "20 0\n",
      "21 0\n",
      "22 0\n",
      "23 0\n",
      "24 0\n",
      "25 0\n",
      "26 0\n",
      "27 0\n",
      "28 0\n",
      "29 0\n",
      "30 0\n",
      "31 0\n",
      "32 0\n",
      "33 0\n",
      "34 0\n",
      "35 0\n",
      "36 0\n",
      "37 0\n",
      "38 0\n",
      "39 0\n",
      "rend: 0.0035735735735735736 & volatilité: 0.004001461561152136\n"
     ]
    },
    {
     "data": {
      "text/plain": [
       "array([0.08500627, 0.09482719, 0.06558617, 0.01028997, 0.08541323,\n",
       "       0.03119926, 0.09368603, 0.04700034, 0.08094881, 0.06588834,\n",
       "       0.02301538, 0.07647376, 0.01617005, 0.08377057, 0.05743828,\n",
       "       0.01323873, 0.0700476 ])"
      ]
     },
     "execution_count": 47,
     "metadata": {},
     "output_type": "execute_result"
    },
    {
     "data": {
      "image/png": "[encoded data removed]",
      "text/plain": [
       "<Figure size 432x288 with 1 Axes>"
      ]
     },
     "metadata": {
      "needs_background": "light"
     },
     "output_type": "display_data"
    }
   ],
   "source": [
    "res = np.argsort(classement)[-15:]\n",
    "mat_return = np.array(l_return.values[res])\n",
    "target_ = np.linspace(0.000, 0.03, num=1000)\n",
    "best = \"\"\n",
    "W=np.array([])\n",
    "actual_rend = 0\n",
    "actual_std = 1\n",
    "decal = 0\n",
    "Res=[]\n",
    "\n",
    "while len(W) == 0 and decal < 20:\n",
    "    for j in range(15,40):\n",
    "        print(j, decal)\n",
    "        if decal > 0:\n",
    "            res = np.argsort(classement)[-j-decal:-decal]\n",
    "        else:\n",
    "            res = np.argsort(classement)[-j:]\n",
    "        mat_return = np.array(l_return.values[res])\n",
    "        for i in target_:\n",
    "            w = get_w(mat_return, i)\n",
    "            if checking_w(w):\n",
    "                variance, std, rend = sharpe(w, mat_return)\n",
    "                print(f\"{i:0.3}, {rend}\")\n",
    "                if actual_rend/actual_std < rend/std:\n",
    "                    Res=res\n",
    "                    W=w\n",
    "                    actual_rend= rend\n",
    "                    actual_std = std\n",
    "                    best = f\"rend: {rend} & volatilité: {std}\"\n",
    "                    plt.scatter(std, rend, c=\"red\")\n",
    "    decal+=1\n",
    "        \n",
    "print(best)\n",
    "W"
   ]
  },
  {
   "cell_type": "markdown",
   "metadata": {},
   "source": [
    "## Verification\n",
    "\n",
    "Notre porte-feuille doit respecter plusieurs criteres:\n",
    "\n",
    "- 50% stock en prix\n",
    "- check la currency\n",
    "- check les lots\n",
    "- 1% a 10% par actif\n"
   ]
  },
  {
   "cell_type": "code",
   "execution_count": 48,
   "metadata": {},
   "outputs": [
    {
     "data": {
      "text/plain": [
       "array(['FUND', 'STOCK', 'STOCK', 'STOCK', 'STOCK', 'STOCK', 'STOCK',\n",
       "       'STOCK', 'STOCK', 'STOCK', 'STOCK', 'STOCK', 'STOCK', 'STOCK',\n",
       "       'STOCK', 'STOCK', 'STOCK'], dtype=object)"
      ]
     },
     "execution_count": 48,
     "metadata": {},
     "output_type": "execute_result"
    }
   ],
   "source": [
    "def check_type(list_id):\n",
    "    #df_asset = req.get_asset()[[\"ASSET_DATABASE_ID\", \"TYPE\"]]\n",
    "    mask = df_asset['ASSET_DATABASE_ID'].isin(list_id)\n",
    "    pf_type = df_asset.loc[mask][\"TYPE\"].values\n",
    "    #print(np.unique(pf_type, return_counts=True))\n",
    "    return pf_type\n",
    "    \n",
    "    \n",
    "check_type(l_id[Res])"
   ]
  },
  {
   "cell_type": "code",
   "execution_count": 49,
   "metadata": {},
   "outputs": [
    {
     "data": {
      "text/plain": [
       "array(['USD', 'EUR', 'EUR', 'EUR', 'EUR', 'EUR', 'USD', 'EUR', 'EUR',\n",
       "       'EUR', 'EUR', 'EUR', 'EUR', 'EUR', 'EUR', 'EUR', 'USD'],\n",
       "      dtype=object)"
      ]
     },
     "execution_count": 49,
     "metadata": {},
     "output_type": "execute_result"
    }
   ],
   "source": [
    "def check_currency(list_id):\n",
    "    mask = df_asset['ASSET_DATABASE_ID'].isin(list_id)\n",
    "    pf_type = df_asset.loc[mask][\"CURRENCY\"].values\n",
    "    return pf_type\n",
    "    \n",
    "    \n",
    "check_currency(l_id[Res])"
   ]
  },
  {
   "cell_type": "code",
   "execution_count": 50,
   "metadata": {},
   "outputs": [
    {
     "data": {
      "text/plain": [
       "1.1174"
      ]
     },
     "execution_count": 50,
     "metadata": {},
     "output_type": "execute_result"
    }
   ],
   "source": [
    "req.change_currency(\"EUR\",\"USD\")"
   ]
  },
  {
   "cell_type": "code",
   "execution_count": 51,
   "metadata": {},
   "outputs": [
    {
     "name": "stdout",
     "output_type": "stream",
     "text": [
      "% de chaque actif : [0.08500603 0.09482735 0.06558639 0.01028995 0.08541351 0.03119933\n",
      " 0.09368627 0.04700036 0.08094902 0.0658881  0.02301546 0.07647396\n",
      " 0.0161701  0.08377082 0.05743848 0.01323804 0.07004683]\n",
      "Stock % :0.91\n"
     ]
    },
    {
     "data": {
      "text/plain": [
       "array([   162396,    220528,   7495562,     52366,  94903589,    726408,\n",
       "         1191630,    217091,    828544,    140756, 133810370,    952350,\n",
       "         3850011,    399105,  95730474,     13238,     53628])"
      ]
     },
     "execution_count": 51,
     "metadata": {},
     "output_type": "execute_result"
    }
   ],
   "source": [
    "def get_amout(w, list_id, list_nav, solde= 100000000):\n",
    "    \n",
    "    stock_price = 0\n",
    "    global_price = 0\n",
    "    actif_price = []\n",
    "    \n",
    "    #On recupere la list de type d'actif et leur currency\n",
    "    l_currency = check_currency(list_id)\n",
    "    l_type = check_type(list_id)\n",
    "    \n",
    "    #On prend les prix de l'actif a la date\n",
    "    start = dt.datetime.strptime('2016-06-01', '%Y-%m-%d')\n",
    "    price = list_nav.loc[list_nav.index == start]\n",
    "    \n",
    "    #Pour chaque actif on recupere le nombre que l'on peut en acheter\n",
    "    # nombre = (solde*poid) / prix d'une action\n",
    "    nb_actif= []\n",
    "    for i in range(len(list_id)):\n",
    "        unit_price = price[list_id[i]].values[0]\n",
    "        if l_currency[i] != \"EUR\":\n",
    "            r = req.change_currency(l_currency[i],\"EUR\")\n",
    "            unit_price = r * unit_price\n",
    "            \n",
    "        nb = int((solde*w[i])//unit_price)\n",
    "        \n",
    "        if l_type[i] == \"STOCK\":\n",
    "            stock_price+= nb*unit_price\n",
    "        global_price += nb*unit_price\n",
    "        \n",
    "        nb_actif.append(nb)\n",
    "        actif_price.append(nb*unit_price)\n",
    "        \n",
    "    actif_price = np.array(actif_price)\n",
    "    print(\"% de chaque actif :\",actif_price/global_price)\n",
    "    print(f\"Stock % :{(stock_price/global_price):0.2}\")\n",
    "    return np.array(nb_actif)\n",
    "    \n",
    "    \n",
    "get_amout(W, l_id[Res], list_nav)"
   ]
  },
  {
   "cell_type": "markdown",
   "metadata": {},
   "source": [
    "Nous verrifions si le montant de stock est bien superieur a 50%"
   ]
  },
  {
   "cell_type": "code",
   "execution_count": 52,
   "metadata": {},
   "outputs": [
    {
     "name": "stdout",
     "output_type": "stream",
     "text": [
      "% de chaque actif : [0.08500603 0.09482735 0.06558639 0.01028995 0.08541351 0.03119933\n",
      " 0.09368627 0.04700036 0.08094902 0.0658881  0.02301546 0.07647396\n",
      " 0.0161701  0.08377082 0.05743848 0.01323804 0.07004683]\n",
      "Stock % :0.91\n"
     ]
    },
    {
     "data": {
      "text/plain": [
       "[{'asset': {'asset': 1872, 'quantity': 162396}},\n",
       " {'asset': {'asset': 1990, 'quantity': 220528}},\n",
       " {'asset': {'asset': 2035, 'quantity': 7495562}},\n",
       " {'asset': {'asset': 1912, 'quantity': 52366}},\n",
       " {'asset': {'asset': 1959, 'quantity': 94903589}},\n",
       " {'asset': {'asset': 1884, 'quantity': 726408}},\n",
       " {'asset': {'asset': 1877, 'quantity': 1191630}},\n",
       " {'asset': {'asset': 2058, 'quantity': 217091}},\n",
       " {'asset': {'asset': 1956, 'quantity': 828544}},\n",
       " {'asset': {'asset': 2112, 'quantity': 140756}},\n",
       " {'asset': {'asset': 2076, 'quantity': 133810370}},\n",
       " {'asset': {'asset': 2034, 'quantity': 952350}},\n",
       " {'asset': {'asset': 2023, 'quantity': 3850011}},\n",
       " {'asset': {'asset': 2154, 'quantity': 399105}},\n",
       " {'asset': {'asset': 1901, 'quantity': 95730474}},\n",
       " {'asset': {'asset': 2024, 'quantity': 13238}},\n",
       " {'asset': {'asset': 1958, 'quantity': 53628}}]"
      ]
     },
     "execution_count": 52,
     "metadata": {},
     "output_type": "execute_result"
    }
   ],
   "source": [
    "def get_asset_pf(W, list_id, list_nav):\n",
    "    nb = get_amout(W,list_id,list_nav)\n",
    "    nb = np.nan_to_num(nb)\n",
    "    ret = []\n",
    "    for i in range(len(list_id)):\n",
    "        js = {}\n",
    "        js[\"asset\"] = int(list_id[i])\n",
    "        js[\"quantity\"] = int(nb[i])\n",
    "        ret.append({\"asset\": js})\n",
    "    return ret\n",
    "\n",
    "new_pt = get_asset_pf(W, l_id[Res], list_nav)\n",
    "new_pt"
   ]
  },
  {
   "cell_type": "markdown",
   "metadata": {},
   "source": [
    "## Porte-Feuille"
   ]
  },
  {
   "cell_type": "code",
   "execution_count": 54,
   "metadata": {},
   "outputs": [],
   "source": [
    "new_portfolio = {\n",
    "    \"label\":\"EPITA_PTF_8\",\n",
    "    \"currency\": {\n",
    "        \"code\":\"EUR\"\n",
    "    },\n",
    "    \"type\":\"front\",\n",
    "    \"values\": {\n",
    "        \"2016-06-01\": new_pt\n",
    "    }\n",
    "}\n",
    "pp = json.dumps(new_portfolio)"
   ]
  },
  {
   "cell_type": "code",
   "execution_count": 55,
   "metadata": {},
   "outputs": [
    {
     "data": {
      "text/plain": [
       "''"
      ]
     },
     "execution_count": 55,
     "metadata": {},
     "output_type": "execute_result"
    }
   ],
   "source": [
    "req.push(pp).text"
   ]
  },
  {
   "cell_type": "code",
   "execution_count": 56,
   "metadata": {},
   "outputs": [
    {
     "data": {
      "text/plain": [
       "'{\"label\":\"EPITA_PTF_8\",\"currency\":{\"code\":\"EUR\"},\"type\":\"front\",\"values\":{\"2016-06-01\":[{\"asset\":{\"asset\":2112,\"quantity\":140756.0}},{\"asset\":{\"asset\":1956,\"quantity\":828544.0}},{\"asset\":{\"asset\":1990,\"quantity\":220528.0}},{\"asset\":{\"asset\":1958,\"quantity\":53628.0}},{\"asset\":{\"asset\":1959,\"quantity\":9.4903589E7}},{\"asset\":{\"asset\":2023,\"quantity\":3850011.0}},{\"asset\":{\"asset\":2024,\"quantity\":13238.0}},{\"asset\":{\"asset\":2058,\"quantity\":217091.0}},{\"asset\":{\"asset\":2154,\"quantity\":399105.0}},{\"asset\":{\"asset\":1901,\"quantity\":9.5730474E7}},{\"asset\":{\"asset\":1872,\"quantity\":162396.0}},{\"asset\":{\"asset\":2034,\"quantity\":952350.0}},{\"asset\":{\"asset\":2035,\"quantity\":7495562.0}},{\"asset\":{\"asset\":1877,\"quantity\":1191630.0}},{\"asset\":{\"asset\":1912,\"quantity\":52366.0}},{\"asset\":{\"asset\":1884,\"quantity\":726408.0}},{\"asset\":{\"asset\":2076,\"quantity\":1.3381037E8}}]}}'"
      ]
     },
     "execution_count": 56,
     "metadata": {},
     "output_type": "execute_result"
    }
   ],
   "source": [
    "portfolio = req.get_portfolio()\n",
    "portfolio"
   ]
  },
  {
   "cell_type": "code",
   "execution_count": 61,
   "metadata": {},
   "outputs": [
    {
     "data": {
      "text/html": [
       "<div>\n",
       "<style scoped>\n",
       "    .dataframe tbody tr th:only-of-type {\n",
       "        vertical-align: middle;\n",
       "    }\n",
       "\n",
       "    .dataframe tbody tr th {\n",
       "        vertical-align: top;\n",
       "    }\n",
       "\n",
       "    .dataframe thead th {\n",
       "        text-align: right;\n",
       "    }\n",
       "</style>\n",
       "<table border=\"1\" class=\"dataframe\">\n",
       "  <thead>\n",
       "    <tr style=\"text-align: right;\">\n",
       "      <th></th>\n",
       "      <th>2201</th>\n",
       "      <th>1827</th>\n",
       "    </tr>\n",
       "  </thead>\n",
       "  <tbody>\n",
       "    <tr>\n",
       "      <th>10</th>\n",
       "      <td>{'type': 'percent', 'value': '0,166459552501'}</td>\n",
       "      <td>{'type': 'percent', 'value': '0,140556818897'}</td>\n",
       "    </tr>\n",
       "    <tr>\n",
       "      <th>12</th>\n",
       "      <td>{'type': 'double', 'value': '0,146571943186'}</td>\n",
       "      <td>{'type': 'double', 'value': '2,752436418938'}</td>\n",
       "    </tr>\n",
       "    <tr>\n",
       "      <th>9</th>\n",
       "      <td>{'type': 'percent', 'value': '0,029398300072'}</td>\n",
       "      <td>{'type': 'percent', 'value': '0,391873707262'}</td>\n",
       "    </tr>\n",
       "  </tbody>\n",
       "</table>\n",
       "</div>"
      ],
      "text/plain": [
       "                                              2201  \\\n",
       "10  {'type': 'percent', 'value': '0,166459552501'}   \n",
       "12   {'type': 'double', 'value': '0,146571943186'}   \n",
       "9   {'type': 'percent', 'value': '0,029398300072'}   \n",
       "\n",
       "                                              1827  \n",
       "10  {'type': 'percent', 'value': '0,140556818897'}  \n",
       "12   {'type': 'double', 'value': '2,752436418938'}  \n",
       "9   {'type': 'percent', 'value': '0,391873707262'}  "
      ]
     },
     "execution_count": 61,
     "metadata": {},
     "output_type": "execute_result"
    }
   ],
   "source": [
    "#9:r 10:v 12:sharpe\n",
    "pd.DataFrame(json.loads(req.get_ratios()))"
   ]
  }
 ],
 "metadata": {
  "kernelspec": {
   "display_name": "Python 3",
   "language": "python",
   "name": "python3"
  },
  "language_info": {
   "codemirror_mode": {
    "name": "ipython",
    "version": 3
   },
   "file_extension": ".py",
   "mimetype": "text/x-python",
   "name": "python",
   "nbconvert_exporter": "python",
   "pygments_lexer": "ipython3",
   "version": "3.7.3"
  }
 },
 "nbformat": 4,
 "nbformat_minor": 4
}
