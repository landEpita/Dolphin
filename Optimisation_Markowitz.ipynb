{
 "cells": [
  {
   "cell_type": "code",
   "execution_count": 1,
   "metadata": {},
   "outputs": [],
   "source": [
    "import numpy as np\n",
    "import matplotlib.pyplot as plt\n",
    "import requests\n",
    "import pandas as pd\n",
    "import json"
   ]
  },
  {
   "cell_type": "code",
   "execution_count": 2,
   "metadata": {},
   "outputs": [],
   "source": [
    "import warnings\n",
    "warnings.filterwarnings('ignore')"
   ]
  },
  {
   "cell_type": "markdown",
   "metadata": {},
   "source": [
    "# Rappel du sujet\n",
    "\n",
    "- 15 actifs min et 40 max\n",
    "- chaque actif ne doit pas etre superieux a 10% du portefeuille"
   ]
  },
  {
   "cell_type": "markdown",
   "metadata": {},
   "source": [
    "# Manager API"
   ]
  },
  {
   "cell_type": "code",
   "execution_count": 130,
   "metadata": {},
   "outputs": [],
   "source": [
    "\n",
    "class RESTManager:\n",
    "    HOST_NAME = \"dolphin.jump-technology.com\"\n",
    "    PORT = \"8443\"\n",
    "\n",
    "    URL = \"https://\" + HOST_NAME + \":\" + PORT + \"/api/v1/\"\n",
    "\n",
    "    USERNAME_USER1 = \"EPITA_GROUPE8\"\n",
    "    PASSWORD_USER1 = \"AgLyQx64Jw6pAkW9\"\n",
    "\n",
    "    auth = (USERNAME_USER1, PASSWORD_USER1)\n",
    "\n",
    "\n",
    "    def get(self, path):\n",
    "        return requests.get(self.URL+path, auth=self.auth, verify=False).text\n",
    "    \n",
    "    def put(self, path, data):\n",
    "        return requests.put(self.URL+path, auth=self.auth, data=data, verify=False)\n",
    "    \n",
    "    def post(self, path, data):\n",
    "        return requests.post(self.URL+path, auth=self.auth, data=data, verify=False)\n",
    "    \n",
    "    def get_asset(self):\n",
    "        dt_text = self.get(\"asset?columns=ASSET_DATABASE_ID&columns=LABEL&columns=TYPE&columns=LAST_CLOSE_VALUE_IN_CURR&columns=CURRENCY&date=2016-06-01\")\n",
    "        dt = json.loads(dt_text)\n",
    "        df = []\n",
    "        for i in range(len(dt)):\n",
    "            tmp = {}\n",
    "            for key in dt[i]:\n",
    "                tmp[key] = dt[i][key][\"value\"]\n",
    "            df.append(tmp)\n",
    "        df = pd.DataFrame(df)\n",
    "        return df\n",
    "    \n",
    "    def get_asset_id(self, uid):\n",
    "        dt_text = self.get(f\"asset/{uid}\")\n",
    "        dt = json.loads(dt_text)\n",
    "        df={}\n",
    "        for key in dt:\n",
    "            df[key] = dt[key][\"value\"]\n",
    "        #df = pd.DataFrame(df)\n",
    "        return df\n",
    "    \n",
    "    def get_asset_id_quote(self, uid):\n",
    "        dt_text = self.get(f\"asset/{uid}/quote\")\n",
    "        dt = json.loads(dt_text)\n",
    "        df = []\n",
    "        for i in range(len(dt)):\n",
    "            tmp = {}\n",
    "            for key in dt[i]:\n",
    "                tmp[key] = dt[i][key][\"value\"]\n",
    "            df.append(tmp)\n",
    "        df = pd.DataFrame(df)\n",
    "        df['date'] = pd.to_datetime(df['date'])\n",
    "        df = df.set_index('date')\n",
    "        #l = [\"ask\" ,\"asset\" ,\"bid\" ,\"close\" ,\"feed_source\" ,\"gross\" ,\"high\" ,\"low\",\"nav\" ,\"open\", \"pl\" ,\"real_close_price\" ,\"return\" ,\"volume\"]\n",
    "        l = [\"return\",\"nav\"]\n",
    "        for elt in l:\n",
    "            df[elt] = df[elt].str.replace(',', '.').astype(float)\n",
    "        return df\n",
    "    \n",
    "    def get_ratio(self):\n",
    "        self.get(\"ratio\")\n",
    "    \n",
    "    def sharpe(self, df, taux_sans_risque, periode=30):\n",
    "        df['Log_Ret'] = np.log(df['close'] / df['close'].shift(1))\n",
    "        df['Volatility'] = df['Log_Ret'].rolling(window=periode).std() * np.sqrt(periode)\n",
    "        sharpe = (df[\"return\"] - taux_sans_risque[\"1 mois\"])/df[\"Volatility\"]\n",
    "        return sharpe\n",
    "    \n",
    "    def get_portfolio(self):\n",
    "        resp = self.get(\"portfolio/1827/dyn_amount_compo\")\n",
    "        return resp\n",
    "\n",
    "    def push(self, data):\n",
    "        return self.put(\"portfolio/1827/dyn_amount_compo\", data)\n",
    "    \n",
    "    def get_ratios(self, ref=False):\n",
    "        data = {\n",
    "            \"ratio\": [9, 12, 10],\n",
    "            \"asset\": [1827, 2201],\n",
    "            \"start_date\": \"2016-06-01\",\n",
    "            \"end_date\": \"2020-09-30\",\n",
    "            \"frequency\": \"daily\"\n",
    "        }\n",
    "        return self.post(\"ratio/invoke\", json.dumps(data)).text\n",
    "    \n",
    "    def change_currency(self, c_in, c_out):\n",
    "        url = f\"currency/rate/{c_in}/to/{c_out}?date=2016-06-01\"\n",
    "        js = json.loads(self.get(url))[\"rate\"][\"value\"].replace(\",\", \".\")\n",
    "        return float(js)\n",
    "        \n",
    "\n",
    "req = RESTManager()"
   ]
  },
  {
   "cell_type": "code",
   "execution_count": 123,
   "metadata": {},
   "outputs": [
    {
     "data": {
      "text/plain": [
       "[1820, 1821, 1822, 1823, 1824, 1825, 1826, 1827, 1828, 1829, 1830, 1831, 1832]"
      ]
     },
     "execution_count": 123,
     "metadata": {},
     "output_type": "execute_result"
    }
   ],
   "source": [
    "l = [i + 1820 for i in range(13)]\n",
    "l"
   ]
  },
  {
   "cell_type": "code",
   "execution_count": 287,
   "metadata": {
    "scrolled": true
   },
   "outputs": [
    {
     "data": {
      "text/html": [
       "<div>\n",
       "<style scoped>\n",
       "    .dataframe tbody tr th:only-of-type {\n",
       "        vertical-align: middle;\n",
       "    }\n",
       "\n",
       "    .dataframe tbody tr th {\n",
       "        vertical-align: top;\n",
       "    }\n",
       "\n",
       "    .dataframe thead th {\n",
       "        text-align: right;\n",
       "    }\n",
       "</style>\n",
       "<table border=\"1\" class=\"dataframe\">\n",
       "  <thead>\n",
       "    <tr style=\"text-align: right;\">\n",
       "      <th></th>\n",
       "      <th>ASSET_DATABASE_ID</th>\n",
       "      <th>CURRENCY</th>\n",
       "      <th>LABEL</th>\n",
       "      <th>LAST_CLOSE_VALUE_IN_CURR</th>\n",
       "      <th>TYPE</th>\n",
       "    </tr>\n",
       "  </thead>\n",
       "  <tbody>\n",
       "    <tr>\n",
       "      <th>387</th>\n",
       "      <td>1590</td>\n",
       "      <td>EUR</td>\n",
       "      <td>JPMorgan Funds - Europe Dynamic Fund I (acc)</td>\n",
       "      <td>25,8 EUR</td>\n",
       "      <td>FUND</td>\n",
       "    </tr>\n",
       "  </tbody>\n",
       "</table>\n",
       "</div>"
      ],
      "text/plain": [
       "    ASSET_DATABASE_ID CURRENCY                                         LABEL  \\\n",
       "387              1590      EUR  JPMorgan Funds - Europe Dynamic Fund I (acc)   \n",
       "\n",
       "    LAST_CLOSE_VALUE_IN_CURR  TYPE  \n",
       "387                 25,8 EUR  FUND  "
      ]
     },
     "execution_count": 287,
     "metadata": {},
     "output_type": "execute_result"
    }
   ],
   "source": [
    "df_asset = req.get_asset()\n",
    "df_asset.loc[df_asset[\"ASSET_DATABASE_ID\"] == \"1590\"]"
   ]
  },
  {
   "cell_type": "code",
   "execution_count": 292,
   "metadata": {},
   "outputs": [
    {
     "data": {
      "text/html": [
       "<div>\n",
       "<style scoped>\n",
       "    .dataframe tbody tr th:only-of-type {\n",
       "        vertical-align: middle;\n",
       "    }\n",
       "\n",
       "    .dataframe tbody tr th {\n",
       "        vertical-align: top;\n",
       "    }\n",
       "\n",
       "    .dataframe thead th {\n",
       "        text-align: right;\n",
       "    }\n",
       "</style>\n",
       "<table border=\"1\" class=\"dataframe\">\n",
       "  <thead>\n",
       "    <tr style=\"text-align: right;\">\n",
       "      <th></th>\n",
       "      <th>ask</th>\n",
       "      <th>asset</th>\n",
       "      <th>bid</th>\n",
       "      <th>close</th>\n",
       "      <th>feed_source</th>\n",
       "      <th>gross</th>\n",
       "      <th>high</th>\n",
       "      <th>low</th>\n",
       "      <th>nav</th>\n",
       "      <th>open</th>\n",
       "      <th>pl</th>\n",
       "      <th>real_close_price</th>\n",
       "      <th>return</th>\n",
       "      <th>volume</th>\n",
       "    </tr>\n",
       "    <tr>\n",
       "      <th>date</th>\n",
       "      <th></th>\n",
       "      <th></th>\n",
       "      <th></th>\n",
       "      <th></th>\n",
       "      <th></th>\n",
       "      <th></th>\n",
       "      <th></th>\n",
       "      <th></th>\n",
       "      <th></th>\n",
       "      <th></th>\n",
       "      <th></th>\n",
       "      <th></th>\n",
       "      <th></th>\n",
       "      <th></th>\n",
       "    </tr>\n",
       "  </thead>\n",
       "  <tbody>\n",
       "    <tr>\n",
       "      <th>2016-06-01</th>\n",
       "      <td>36,3</td>\n",
       "      <td>1858</td>\n",
       "      <td>36,245</td>\n",
       "      <td>36,29</td>\n",
       "      <td>-10</td>\n",
       "      <td>36,29</td>\n",
       "      <td>36,405</td>\n",
       "      <td>36</td>\n",
       "      <td>36.29</td>\n",
       "      <td>36,255</td>\n",
       "      <td>-0,065</td>\n",
       "      <td>36,29</td>\n",
       "      <td>-0.001788</td>\n",
       "      <td>428852</td>\n",
       "    </tr>\n",
       "  </tbody>\n",
       "</table>\n",
       "</div>"
      ],
      "text/plain": [
       "             ask asset     bid  close feed_source  gross    high low    nav  \\\n",
       "date                                                                          \n",
       "2016-06-01  36,3  1858  36,245  36,29         -10  36,29  36,405  36  36.29   \n",
       "\n",
       "              open      pl real_close_price    return  volume  \n",
       "date                                                           \n",
       "2016-06-01  36,255  -0,065            36,29 -0.001788  428852  "
      ]
     },
     "execution_count": 292,
     "metadata": {},
     "output_type": "execute_result"
    }
   ],
   "source": [
    "test = req.get_asset_id_quote(\"1858\") \n",
    "time2 = dt.datetime.strptime('2016-06-01', '%Y-%m-%d')\n",
    "sdf2 = (test.index == time2) \n",
    "test.loc[sdf2]"
   ]
  },
  {
   "cell_type": "markdown",
   "metadata": {},
   "source": [
    "# Optimisation de portefeuille"
   ]
  },
  {
   "cell_type": "code",
   "execution_count": 5,
   "metadata": {},
   "outputs": [],
   "source": [
    "def sharpe(w,mat_return):\n",
    "    mat_cov = np.cov(mat_return)# * mat_return.shape[1]\n",
    "\n",
    "\n",
    "    if w.ndim != 1:\n",
    "        variance = []\n",
    "        for i in range(w.shape[0]):\n",
    "            variance.append(w[i] @ mat_cov @ w[i].T)\n",
    "    else:\n",
    "        variance = w @ mat_cov @ w.T\n",
    "        \n",
    "    variance = np.array(variance)\n",
    "    std = np.sqrt(variance)\n",
    "    average_rend = mat_return.mean(axis=1)\n",
    "    \n",
    "    return (variance, std, average_rend@w.T)\n"
   ]
  },
  {
   "cell_type": "markdown",
   "metadata": {},
   "source": [
    "# rendement & volatilité\n",
    "\n",
    "Commençons par calculer la volatilité et le rendement de chaque actif pour pouvoir etablir un classement.\n",
    "\n",
    "## 1) Récuperation des rendements"
   ]
  },
  {
   "cell_type": "code",
   "execution_count": 6,
   "metadata": {},
   "outputs": [],
   "source": [
    "list_id = df_asset[\"ASSET_DATABASE_ID\"].values\n",
    "l_id = []\n",
    "\n",
    "#Pour avoir l'index\n",
    "a = req.get_asset_id_quote(list_id[0])[[\"return\"]]\n",
    "list_return = pd.DataFrame(index=a.index)\n",
    "list_nav = pd.DataFrame(index=a.index)\n",
    "\n",
    "\n",
    "for elt in list_id:\n",
    "    if elt != \"1827\" and elt != \"1867\":\n",
    "        try:\n",
    "            df_tmp = req.get_asset_id_quote(elt)\n",
    "            list_return[elt] = df_tmp[\"return\"]\n",
    "            list_nav[elt] = df_tmp[\"nav\"]\n",
    "            l_id.append(elt)\n",
    "        except:\n",
    "            pass\n",
    "l_id = np.array(l_id)\n",
    "list_nav = list_nav.fillna(method='ffill')"
   ]
  },
  {
   "cell_type": "code",
   "execution_count": 7,
   "metadata": {},
   "outputs": [
    {
     "name": "stdout",
     "output_type": "stream",
     "text": [
      "(471,)\n",
      "(1898, 471)\n"
     ]
    }
   ],
   "source": [
    "print(l_id.shape)\n",
    "print(list_return.shape)"
   ]
  },
  {
   "cell_type": "markdown",
   "metadata": {},
   "source": [
    "on veut le rendement sur 2016-06-01 jusqu'a 2020-09-30"
   ]
  },
  {
   "cell_type": "code",
   "execution_count": 8,
   "metadata": {},
   "outputs": [],
   "source": [
    "import datetime as dt\n",
    "start = dt.datetime.strptime('2016-06-01', '%Y-%m-%d')\n",
    "end = dt.datetime.strptime('2020-09-30', '%Y-%m-%d')\n",
    "sdf = (list_return.index > start) & (list_return.index < end)\n",
    "\n",
    "l_return = list_return.loc[sdf]\n",
    "l_return = l_return.fillna(0)"
   ]
  },
  {
   "cell_type": "markdown",
   "metadata": {},
   "source": [
    "## 2) Classement"
   ]
  },
  {
   "cell_type": "code",
   "execution_count": 9,
   "metadata": {},
   "outputs": [
    {
     "data": {
      "text/plain": [
       "(471,)"
      ]
     },
     "execution_count": 9,
     "metadata": {},
     "output_type": "execute_result"
    }
   ],
   "source": [
    "rend_l = l_return.values.mean(axis=0)\n",
    "std_l = l_return.values.std(axis=0)\n",
    "rend_l.shape"
   ]
  },
  {
   "cell_type": "code",
   "execution_count": 10,
   "metadata": {},
   "outputs": [
    {
     "data": {
      "text/plain": [
       "<matplotlib.collections.PathCollection at 0x7f95e042d198>"
      ]
     },
     "execution_count": 10,
     "metadata": {},
     "output_type": "execute_result"
    },
    {
     "data": {
      "image/png": "[encoded data removed]",
      "text/plain": [
       "<Figure size 432x288 with 1 Axes>"
      ]
     },
     "metadata": {
      "needs_background": "light"
     },
     "output_type": "display_data"
    }
   ],
   "source": [
    "plt.scatter(std_l,rend_l, alpha=0.5)"
   ]
  },
  {
   "cell_type": "markdown",
   "metadata": {},
   "source": [
    "Lors du classement on va favoriser les rendements a la volatilité"
   ]
  },
  {
   "cell_type": "code",
   "execution_count": 11,
   "metadata": {},
   "outputs": [],
   "source": [
    "sort_rend = np.argsort(rend_l)\n",
    "sort_std = np.argsort(std_l)\n",
    "\n",
    "#classement\n",
    "classement = np.zeros_like(sort_rend)\n",
    "for i in range(len(sort_rend)):\n",
    "    classement[sort_rend[i]] += i*30\n",
    "    classement[sort_std[len(sort_rend)-1-i]] += i"
   ]
  },
  {
   "cell_type": "markdown",
   "metadata": {},
   "source": [
    "## 3) Methode Naive (n=2)\n",
    "\n",
    "Notre premiere approche est une methode dit \"Brute force\".  \n",
    "En effet, nous allons essayer toute les possibilités, pour a la fin recupérer celle avec\n",
    "la volatilité la plus faible."
   ]
  },
  {
   "cell_type": "code",
   "execution_count": 12,
   "metadata": {},
   "outputs": [
    {
     "data": {
      "text/plain": [
       "<matplotlib.collections.PathCollection at 0x7f95e00cf630>"
      ]
     },
     "execution_count": 12,
     "metadata": {},
     "output_type": "execute_result"
    },
    {
     "data": {
      "image/png": "[encoded data removed]",
      "text/plain": [
       "<Figure size 432x288 with 1 Axes>"
      ]
     },
     "metadata": {
      "needs_background": "light"
     },
     "output_type": "display_data"
    }
   ],
   "source": [
    "# on récupere les Deux meilleur\n",
    "res = np.argsort(classement)[-2:]\n",
    "\n",
    "plt.scatter(std_l,rend_l, alpha=0.5)\n",
    "plt.scatter(std_l[res],rend_l[res], c=\"red\")"
   ]
  },
  {
   "cell_type": "code",
   "execution_count": 13,
   "metadata": {},
   "outputs": [
    {
     "name": "stdout",
     "output_type": "stream",
     "text": [
      "rend: -0.0024873912770831887 & volatilité: 0.011199129719746523 -> poid: [0.45454545 0.54545455]\n"
     ]
    },
    {
     "data": {
      "text/plain": [
       "<matplotlib.collections.PathCollection at 0x7f95e06db710>"
      ]
     },
     "execution_count": 13,
     "metadata": {},
     "output_type": "execute_result"
    },
    {
     "data": {
      "image/png": "[encoded data removed]",
      "text/plain": [
       "<Figure size 432x288 with 1 Axes>"
      ]
     },
     "metadata": {
      "needs_background": "light"
     },
     "output_type": "display_data"
    }
   ],
   "source": [
    "#On créé une matrice avec les rendements de chaque actif en column\n",
    "mat_return = np.array(l_return.values[res])\n",
    "mat_return = np.nan_to_num(mat_return)\n",
    "\n",
    "#On va faire une list de tout les w possible\n",
    "w = np.linspace(0, 1, num=100)\n",
    "W = np.array([w, 1-w]).T\n",
    "\n",
    "variance, std, rend = sharpe(W, mat_return)\n",
    "\n",
    "#On récupere le minimum de volatilité\n",
    "minimum = np.argmin(std)\n",
    "print(f\"rend: {rend[minimum]} & volatilité: {std[minimum]} -> poid: {W[minimum]}\")\n",
    "\n",
    "plt.plot(std,rend)\n",
    "plt.scatter(std[minimum], rend[minimum], c=\"red\")"
   ]
  },
  {
   "cell_type": "markdown",
   "metadata": {},
   "source": [
    "## Methode Naive à 3 actifs (n=3) "
   ]
  },
  {
   "cell_type": "code",
   "execution_count": 14,
   "metadata": {},
   "outputs": [
    {
     "name": "stdout",
     "output_type": "stream",
     "text": [
      "[111 297 198]\n"
     ]
    },
    {
     "data": {
      "text/plain": [
       "<matplotlib.collections.PathCollection at 0x7f95e07b8cf8>"
      ]
     },
     "execution_count": 14,
     "metadata": {},
     "output_type": "execute_result"
    },
    {
     "data": {
      "image/png": "[encoded data removed]",
      "text/plain": [
       "<Figure size 432x288 with 1 Axes>"
      ]
     },
     "metadata": {
      "needs_background": "light"
     },
     "output_type": "display_data"
    }
   ],
   "source": [
    "import itertools\n",
    "\n",
    "w = np.linspace(0, 1, num=100)\n",
    "\n",
    "n_w = np.array(list(itertools.permutations(w, 3)))\n",
    "\n",
    "n_w = n_w[np.sum(n_w,axis=1) == 1]\n",
    "\n",
    "res = np.argsort(classement)[-3:]\n",
    "print(res)\n",
    "\n",
    "plt.scatter(std_l,rend_l, alpha=0.5)\n",
    "plt.scatter(std_l[res],rend_l[res], c=\"red\")"
   ]
  },
  {
   "cell_type": "code",
   "execution_count": 15,
   "metadata": {},
   "outputs": [],
   "source": [
    "mat_return = np.array(l_return.values[res])\n",
    "mat_return = np.nan_to_num(mat_return)\n",
    "\n",
    "variance, std, rend = sharpe(n_w, mat_return)"
   ]
  },
  {
   "cell_type": "code",
   "execution_count": 16,
   "metadata": {},
   "outputs": [
    {
     "name": "stdout",
     "output_type": "stream",
     "text": [
      "rend: -0.0038320304174343863 & volatilité: 0.009996056646896087 -> poid: [0.18181818 0.37373737 0.44444444]\n"
     ]
    },
    {
     "data": {
      "text/plain": [
       "<matplotlib.collections.PathCollection at 0x7f95e047d9e8>"
      ]
     },
     "execution_count": 16,
     "metadata": {},
     "output_type": "execute_result"
    },
    {
     "data": {
      "image/png": "[encoded data removed]",
      "text/plain": [
       "<Figure size 432x288 with 1 Axes>"
      ]
     },
     "metadata": {
      "needs_background": "light"
     },
     "output_type": "display_data"
    }
   ],
   "source": [
    "minimum = np.argmin(std)\n",
    "\n",
    "print(f\"rend: {rend[minimum]} & volatilité: {std[minimum]} -> poid: {n_w[minimum]}\")\n",
    "\n",
    "plt.margins(x=0, y=-0.01)\n",
    "plt.scatter(std,rend,s=1, alpha=0.7)\n",
    "plt.scatter(std[minimum], rend[minimum], c=\"red\")"
   ]
  },
  {
   "cell_type": "markdown",
   "metadata": {},
   "source": [
    "# Optimization (minimal var) [avec Resolution analytique]"
   ]
  },
  {
   "cell_type": "code",
   "execution_count": 17,
   "metadata": {},
   "outputs": [],
   "source": [
    "res = np.argsort(classement)[-2:]\n",
    "mat_return = np.array(l_return.values[res])"
   ]
  },
  {
   "cell_type": "markdown",
   "metadata": {},
   "source": [
    "\n",
    "> https://www.ephiquant.com/optimisation-de-portefeuille-modele-mean-variance-de-markowitz/\n",
    "\n",
    "on cherche a optimiser le programme quadratique suivant\n",
    "\n",
    "$$ \n",
    " \\left\\{\n",
    "    \\begin{array}{ll}\n",
    "       Min \\ \\sigma^2_p(w) = w^T\\sigma w \\\\\n",
    "       w^Tu = 1\n",
    "    \\end{array}\n",
    "\\right.$$\n",
    "\n",
    "on va utiliser la méthode du multiplicateur de Lagrange:\n",
    "\n",
    "$$\n",
    "\\mathcal{L}(\\omega,\\lambda) = \\omega^\\top \\sigma \\omega - \\lambda(\\omega^\\top u-1)\n",
    "$$\n",
    "\n",
    "> où $\\lambda$ est le multiplicateur de Lagrange\n",
    "\n",
    "Nous allons ensuite calculer les dérivées partielles que nous allons spécifier égales à 0 : \n",
    "\n",
    "$$\n",
    "\\begin{cases} \\frac{\\partial\\mathcal{L}}{\\omega}= 2\\sigma\\omega-\\lambda u=0 \\quad \\text{(a)}\\\\  \\frac{\\partial\\mathcal{L}}{\\partial\\lambda}=\\omega^\\top u-1=0 \\quad\\quad\\text{(b)}\\end{cases}\n",
    "$$\n",
    "\n",
    "Nous allons d’abord tirer $\\omega$ dans l’équation (a), après quoi nous allons le remplacer dans l’équation (b) par son expression: \n",
    "\n",
    "$$\n",
    "\\begin{split} \\text{(a)} \\quad 2\\sigma\\omega-\\lambda u=0\\quad  \\implies \\omega &= \\frac{1}{2}\\lambda\\sigma^{-1}u \\\\ \\text{(b)} \\quad \\omega^\\top u-1=0 \\implies \\omega^\\top u &= 1 \\\\ \\frac{1}{2}\\lambda u^\\top\\sigma^{-1}u &=1 \\\\  \\lambda &= \\frac{2}{u^\\top\\sigma^{-1}u} \\end{split}\n",
    "$$\n",
    "\n",
    "Nous allons mettre cette dernière expression de $\\lambda$ dans l’expression de $\\omega$. Cela donnera ceci : \n",
    "\n",
    "$$\n",
    "\\begin{equation*}\\omega=\\frac{1}{2} \\bigg(\\frac{2}{u^{\\top}\\sigma^{-1}u} \\bigg) \\sigma^{-1}u \\implies \\omega=\\frac{\\sigma^{-1}u}{u^\\top\\sigma^{-1}u} \\end{equation*}\n",
    "$$"
   ]
  },
  {
   "cell_type": "code",
   "execution_count": 18,
   "metadata": {},
   "outputs": [],
   "source": [
    "# u = [1, ..., 1]"
   ]
  },
  {
   "cell_type": "code",
   "execution_count": 19,
   "metadata": {},
   "outputs": [
    {
     "data": {
      "text/plain": [
       "array([0.45605329, 0.54394671])"
      ]
     },
     "execution_count": 19,
     "metadata": {},
     "output_type": "execute_result"
    }
   ],
   "source": [
    "r = rend_l[res]\n",
    "u = np.ones(r.shape[0])\n",
    "\n",
    "sigma = np.cov(mat_return)\n",
    "sigma_inv = np.linalg.inv(sigma) \n",
    "\n",
    "w = (sigma_inv @ u) / (u.T @ sigma_inv @ u)\n",
    "w"
   ]
  },
  {
   "cell_type": "code",
   "execution_count": 20,
   "metadata": {},
   "outputs": [
    {
     "name": "stdout",
     "output_type": "stream",
     "text": [
      "rend: -0.0024873912770831887 & volatilité: 0.011199129719746523 -> poid: [0.45454545 0.54545455]\n",
      "rend: -0.002496405384735211 & volatilité: 0.011199072859965676 -> poid: [0.45605329 0.54394671]\n"
     ]
    },
    {
     "data": {
      "image/png": "[encoded data removed]",
      "text/plain": [
       "<Figure size 432x288 with 1 Axes>"
      ]
     },
     "metadata": {
      "needs_background": "light"
     },
     "output_type": "display_data"
    }
   ],
   "source": [
    "w_ = np.linspace(0, 1, num=100)\n",
    "W = np.array([w_, 1-w_]).T\n",
    "\n",
    "variance, std, rend = sharpe(W, mat_return)\n",
    "minimum = np.argmin(std)\n",
    "print(f\"rend: {rend[minimum]} & volatilité: {std[minimum]} -> poid: {W[minimum]}\")\n",
    "\n",
    "plt.plot(std,rend)\n",
    "\n",
    "variance, std, rend = sharpe(w, mat_return)\n",
    "plt.scatter(std, rend, c=\"red\")\n",
    "print(f\"rend: {rend} & volatilité: {std} -> poid: {w}\")"
   ]
  },
  {
   "cell_type": "markdown",
   "metadata": {},
   "source": [
    "## resolution analytique avec les 15 meilleurs actifs"
   ]
  },
  {
   "cell_type": "code",
   "execution_count": 21,
   "metadata": {},
   "outputs": [
    {
     "data": {
      "text/plain": [
       "array([0.07645264, 0.05158086, 0.08992157, 0.0530267 , 0.07518627,\n",
       "       0.05792779, 0.06952589, 0.08499208, 0.08466267, 0.00972262,\n",
       "       0.0803148 , 0.0904078 , 0.01016728, 0.07442745, 0.09168357])"
      ]
     },
     "execution_count": 21,
     "metadata": {},
     "output_type": "execute_result"
    }
   ],
   "source": [
    "res = np.argsort(classement)[-15:]\n",
    "r = rend_l[res]\n",
    "u = np.ones(r.shape[0])\n",
    "mat_return = np.array(l_return.values[res])\n",
    "\n",
    "sigma = np.cov(mat_return)\n",
    "\n",
    "sigma_inv = np.linalg.inv(sigma) \n",
    "\n",
    "w = (sigma_inv @ u) / (u.T @ sigma_inv @ u)\n",
    "\n",
    "w"
   ]
  },
  {
   "cell_type": "code",
   "execution_count": 22,
   "metadata": {},
   "outputs": [
    {
     "name": "stdout",
     "output_type": "stream",
     "text": [
      "rend: 0.00029998360940626317 & volatilité: 0.003891647408567846 \n",
      " -> poid: [0.07645264 0.05158086 0.08992157 0.0530267  0.07518627 0.05792779\n",
      " 0.06952589 0.08499208 0.08466267 0.00972262 0.0803148  0.0904078\n",
      " 0.01016728 0.07442745 0.09168357]\n"
     ]
    }
   ],
   "source": [
    "variance, std, rend = sharpe(w, mat_return)\n",
    "print(f\"rend: {rend} & volatilité: {std} \\n -> poid: {w}\")"
   ]
  },
  {
   "cell_type": "markdown",
   "metadata": {},
   "source": [
    "## Benchmark\n",
    "\n",
    "Regardons l'influence du nombre d'actif sur le rendement et la volatilité."
   ]
  },
  {
   "cell_type": "code",
   "execution_count": 23,
   "metadata": {
    "scrolled": true
   },
   "outputs": [
    {
     "name": "stdout",
     "output_type": "stream",
     "text": [
      "[2] rend: -0.002496405384735211 & volatilité: 0.011199072859965676\n",
      "[3] rend: -0.003812778089430599 & volatilité: 0.009995824492435175\n",
      "[4] rend: -0.001175293296082313 & volatilité: 0.007922907361468725\n",
      "[5] rend: -0.0015098029623718042 & volatilité: 0.007110939178563843\n",
      "[6] rend: -0.0012828327480005862 & volatilité: 0.00678191952596989\n",
      "[7] rend: -0.0017896349072102633 & volatilité: 0.006060112102228489\n",
      "[8] rend: -0.000507779564527428 & volatilité: 0.005336249204345852\n",
      "[9] rend: -0.0004433728795026458 & volatilité: 0.004944057182719895\n",
      "[10] rend: -0.0002021688677221691 & volatilité: 0.004713347831418893\n",
      "[11] rend: 0.0005290486226837523 & volatilité: 0.004422420638059071\n",
      "[12] rend: 0.0005342969382620126 & volatilité: 0.004317052143918704\n",
      "[13] rend: 0.00029344330004148233 & volatilité: 0.004122760748291677\n",
      "[14] rend: 0.00011698355014283342 & volatilité: 0.004077084619694887\n",
      "[15] rend: 0.00029998360940626317 & volatilité: 0.003891647408567846\n",
      "[16] rend: 0.0005134861025407704 & volatilité: 0.0037125672730175985\n",
      "[17] rend: 0.0006843427757999219 & volatilité: 0.003381168025605674\n",
      "[18] rend: 0.0006148979863881001 & volatilité: 0.0033218793658622123\n",
      "[19] rend: 0.0005549727305011832 & volatilité: 0.003299709180505253\n",
      "[20] rend: 0.00031122254488925725 & volatilité: 0.0031589884703791937\n",
      "[21] rend: 0.00010668991958038171 & volatilité: 0.00311109771112206\n",
      "[22] rend: 0.00022005701587175 & volatilité: 0.003046174063188829\n",
      "[23] rend: 0.00036870513593920747 & volatilité: 0.0029841342939456988\n",
      "[24] rend: 0.0002292624368470506 & volatilité: 0.0028365221702333658\n",
      "[25] rend: 0.00026005642836493217 & volatilité: 0.0028305522637075216\n",
      "[26] rend: 0.0001811830425152117 & volatilité: 0.0026936229420859567\n",
      "[27] rend: 0.0004372557041093768 & volatilité: 0.0026161442357632157\n",
      "[28] rend: 0.0004441672347326121 & volatilité: 0.0026042598946740612\n",
      "[29] rend: 0.00040364675170962886 & volatilité: 0.0025893670901076526\n",
      "[30] rend: 0.0006218439375297335 & volatilité: 0.0025025431636093625\n",
      "[31] rend: 0.0006185754828812221 & volatilité: 0.00250252580714579\n",
      "[32] rend: 0.0006445441662793751 & volatilité: 0.0024563252109077354\n",
      "[33] rend: 0.0005616062959708442 & volatilité: 0.0024135224450356207\n",
      "[34] rend: 0.0005688233507291823 & volatilité: 0.002411016642663966\n",
      "[35] rend: 0.0005594392710872439 & volatilité: 0.0024090274778752955\n",
      "[36] rend: 0.0005702114911491438 & volatilité: 0.00238975780947409\n",
      "[37] rend: 0.0005495319716899542 & volatilité: 0.002356839085889419\n",
      "[38] rend: 0.0007197497508764668 & volatilité: 0.002333481581323211\n",
      "[39] rend: 0.0007355868104164899 & volatilité: 0.0023297758797854473\n"
     ]
    },
    {
     "data": {
      "text/plain": [
       "<matplotlib.legend.Legend at 0x7f95e044fb38>"
      ]
     },
     "execution_count": 23,
     "metadata": {},
     "output_type": "execute_result"
    },
    {
     "data": {
      "image/png": "[encoded data removed]",
      "text/plain": [
       "<Figure size 432x288 with 1 Axes>"
      ]
     },
     "metadata": {
      "needs_background": "light"
     },
     "output_type": "display_data"
    }
   ],
   "source": [
    "hist = []\n",
    "for i in range(2,40,1):\n",
    "    res = np.argsort(classement)[-i:]\n",
    "    r = rend_l[res]\n",
    "    u = np.ones(r.shape[0])\n",
    "    mat_return = np.array(l_return.values[res])\n",
    "\n",
    "    sigma = np.cov(mat_return)\n",
    "    sigma_inv = np.linalg.inv(sigma) \n",
    "\n",
    "    w = (sigma_inv @ u) / (u.T @ sigma_inv @ u)\n",
    "    variance, std, rend = sharpe(w, mat_return)\n",
    "    print(f\"[{i}] rend: {rend} & volatilité: {std}\")\n",
    "    hist.append([rend, std])\n",
    "\n",
    "hist = np.array(hist)\n",
    "\n",
    "plt.plot(range(2,40,1),hist[:,0], label=\"rend\")\n",
    "plt.plot(range(2,40,1),hist[:,1], label=\"volatilité\")\n",
    "plt.xlabel(\"nb asset\")\n",
    "plt.legend()"
   ]
  },
  {
   "cell_type": "markdown",
   "metadata": {},
   "source": [
    "## Optimisation avec rendement fixé"
   ]
  },
  {
   "cell_type": "code",
   "execution_count": 24,
   "metadata": {},
   "outputs": [],
   "source": [
    "res = np.argsort(classement)[-2:]\n",
    "r = rend_l[res]\n",
    "u = np.ones(r.shape[0])\n",
    "mat_return = np.array(l_return.values[res])\n",
    "\n",
    "sigma = np.cov(mat_return)\n",
    "sigma_inv = np.linalg.inv(sigma) "
   ]
  },
  {
   "cell_type": "markdown",
   "metadata": {},
   "source": [
    "$$\n",
    "\\begin{equation*}\\omega=E\\mu_0+F\\end{equation*}\n",
    "$$\n",
    "\n",
    "avec:\n",
    "\n",
    "$$\n",
    "E=\\frac{1}{D}\\sigma^{-1}(C\\mu-Au)\\quad \\text{et} \\quad F=\\frac{1}{D}\\sigma^{-1}(-A\\mu+Bu)\n",
    "$$\n",
    "\n",
    "\n",
    "Nous allons définir \n",
    "- $A=u^\\top\\sigma^{-1}\\mu=\\mu^\\top\\sigma^{-1}u$ \n",
    "- $B=\\mu^\\top\\sigma^{-1}\\mu$ \n",
    "- $C=u^\\top\\sigma^{-1}u$\n",
    "- $D=BC-A^2$"
   ]
  },
  {
   "cell_type": "code",
   "execution_count": 25,
   "metadata": {},
   "outputs": [],
   "source": [
    "A = u.T @ sigma_inv @ r \n",
    "B = r.T @ sigma_inv @ r\n",
    "C = u.T @ sigma_inv @ u\n",
    "D = B*C - (A**2)"
   ]
  },
  {
   "cell_type": "code",
   "execution_count": 26,
   "metadata": {},
   "outputs": [
    {
     "data": {
      "text/plain": [
       "array([0.99733108, 0.00266892])"
      ]
     },
     "execution_count": 26,
     "metadata": {},
     "output_type": "execute_result"
    }
   ],
   "source": [
    "E = (1/D) * sigma_inv @ (C*r - A*u)\n",
    "F = (1/D) * sigma_inv @ (-A*r + B*u)\n",
    "\n",
    "w = E* 0.004 + F\n",
    "w"
   ]
  },
  {
   "cell_type": "code",
   "execution_count": 27,
   "metadata": {},
   "outputs": [
    {
     "name": "stdout",
     "output_type": "stream",
     "text": [
      "[39] rend: -0.005732264675541908 & volatilité: 0.017015748213596516\n"
     ]
    }
   ],
   "source": [
    "variance, std, rend = sharpe(w, mat_return)\n",
    "print(f\"[{i}] rend: {rend} & volatilité: {std}\")"
   ]
  },
  {
   "cell_type": "code",
   "execution_count": 28,
   "metadata": {},
   "outputs": [
    {
     "name": "stdout",
     "output_type": "stream",
     "text": [
      "\n"
     ]
    },
    {
     "data": {
      "image/png": "[encoded data removed]",
      "text/plain": [
       "<Figure size 432x288 with 1 Axes>"
      ]
     },
     "metadata": {
      "needs_background": "light"
     },
     "output_type": "display_data"
    }
   ],
   "source": [
    "w_ = np.linspace(0, 1, num=100)\n",
    "W = np.array([w_, 1-w_]).T\n",
    "\n",
    "\n",
    "variance, std, rend = sharpe(W, mat_return)\n",
    "\n",
    "minimum = np.argmin(std)\n",
    "plt.plot(std,rend)\n",
    "\n",
    "target_ = np.linspace(0.001, 0.005, num=100)\n",
    "best = \"\"\n",
    "\n",
    "for i in target_:\n",
    "    w = E* i + F\n",
    "    variance, std, rend = sharpe(w, mat_return)\n",
    "    if std < rend:\n",
    "        best = f\"rend: {rend} & volatilité: {std}\"\n",
    "        plt.scatter(std, rend, c=\"red\")\n",
    "    else:\n",
    "        plt.scatter(std, rend, c=\"green\")\n",
    "        \n",
    "print(best)"
   ]
  },
  {
   "cell_type": "markdown",
   "metadata": {},
   "source": [
    "En Rouge: rendement > risque  \n",
    "En Vert : rendement < risque"
   ]
  },
  {
   "cell_type": "markdown",
   "metadata": {},
   "source": [
    "## N=15"
   ]
  },
  {
   "cell_type": "code",
   "execution_count": 29,
   "metadata": {},
   "outputs": [],
   "source": [
    "res = np.argsort(classement)[-15:]\n",
    "mat_return = np.array(l_return.values[res])"
   ]
  },
  {
   "cell_type": "code",
   "execution_count": 30,
   "metadata": {},
   "outputs": [
    {
     "name": "stdout",
     "output_type": "stream",
     "text": [
      "[ 0.10376791 -0.00195628  0.05492459  0.05548042  0.14360687  0.08836738\n",
      "  0.05432981  0.15799963  0.05328932  0.00178605  0.05996284  0.1437077\n",
      " -0.040176    0.02969663  0.09521313]\n"
     ]
    },
    {
     "data": {
      "text/plain": [
       "(array(2.29345042e-05), 0.00478899824543687, 0.003)"
      ]
     },
     "execution_count": 30,
     "metadata": {},
     "output_type": "execute_result"
    }
   ],
   "source": [
    "def get_w(mat_return, u_t= 0.0017):\n",
    "    r = mat_return.mean(axis=1)\n",
    "    u = np.ones(r.shape[0])\n",
    "    \n",
    "    sigma = np.cov(mat_return)\n",
    "    sigma_inv = np.linalg.pinv(sigma) \n",
    "    \n",
    "    A = u.T @ sigma_inv @ r \n",
    "    B = r.T @ sigma_inv @ r\n",
    "    C = u.T @ sigma_inv @ u\n",
    "    D = B*C - (A**2)\n",
    "    \n",
    "    E = (1/D) * sigma_inv @ (C*r - A*u)\n",
    "    F = (1/D) * sigma_inv @ (-A*r + B*u)\n",
    "\n",
    "    w = E* u_t + F\n",
    "    return w\n",
    "\n",
    "\n",
    "w_20 = get_w(mat_return, 0.003)\n",
    "print(w_20)\n",
    "sharpe(w_20, mat_return)"
   ]
  },
  {
   "cell_type": "code",
   "execution_count": 31,
   "metadata": {},
   "outputs": [
    {
     "data": {
      "text/plain": [
       "False"
      ]
     },
     "execution_count": 31,
     "metadata": {},
     "output_type": "execute_result"
    }
   ],
   "source": [
    "def checking_w(w):\n",
    "    if np.sum(w<0) == 0:\n",
    "        if np.sum((w >= 0.01) & (w <= 0.1)) == w.shape[0]:\n",
    "            return True\n",
    "    return False\n",
    "\n",
    "checking_w(np.array([0.2, 0.05]))"
   ]
  },
  {
   "cell_type": "code",
   "execution_count": 32,
   "metadata": {},
   "outputs": [],
   "source": [
    "import math\n",
    "\n",
    "sort_ = np.argsort(rend_l/std_l)\n",
    "classement2 = np.zeros_like(sort_)\n",
    "for i in range(len(sort_)):\n",
    "    classement2[sort_[i]] += i\n",
    "    classement2[sort_rend[i]] += i*0.1"
   ]
  },
  {
   "cell_type": "code",
   "execution_count": 33,
   "metadata": {},
   "outputs": [
    {
     "name": "stdout",
     "output_type": "stream",
     "text": [
      "15 0\n",
      "0.0, 3.82689e-18 | 1.079469201379398e-15\n",
      "5e-05, 5.0025e-05 | 0.014136210338853445\n",
      "0.0001, 0.00010005 | 0.02831540075246581\n",
      "0.00015, 0.000150075 | 0.042525577051176405\n",
      "0.0002, 0.0002001 | 0.05675456510142575\n",
      "0.00025, 0.000250125 | 0.07099006180500457\n",
      "0.0003, 0.00030015 | 0.08521968757014074\n",
      "0.00035, 0.000350175 | 0.09943103975978484\n",
      "0.0004, 0.0004002 | 0.11361174658277436\n",
      "0.00045, 0.000450225 | 0.12774952088342012\n",
      "0.0005, 0.00050025 | 0.14183221328477424\n",
      "0.00055, 0.000550275 | 0.15584786415046906\n",
      "0.0006, 0.0006003 | 0.16978475384931208\n",
      "0.00065, 0.000650325 | 0.18363145083528423\n",
      "0.0007, 0.00070035 | 0.19737685709244615\n",
      "0.00075, 0.000750375 | 0.21101025053852446\n",
      "0.0008, 0.0008004 | 0.2245213240314588\n",
      "\n"
     ]
    },
    {
     "data": {
      "text/plain": [
       "array([], dtype=float64)"
      ]
     },
     "execution_count": 33,
     "metadata": {},
     "output_type": "execute_result"
    }
   ],
   "source": [
    "res = np.argsort(classement)[-15:]\n",
    "mat_return = np.array(l_return.values[res])\n",
    "target_ = np.linspace(0, 0.1, num=2000)\n",
    "best = \"\"\n",
    "W=np.array([])\n",
    "actual_rend = 0\n",
    "actual_std = 1\n",
    "decal = 0\n",
    "sharpe_ref = 10000\n",
    "Res=[]\n",
    "\n",
    "while decal < 100:\n",
    "    for j in range(15,16):\n",
    "        if decal > 0:\n",
    "            res = np.argsort(classement2)[-j-decal:-decal]\n",
    "        else:\n",
    "            res = np.argsort(classement2)[-j:]\n",
    "        mat_return = np.array(l_return.values[res])\n",
    "        for i in target_:\n",
    "            w = get_w(mat_return, i)\n",
    "            if checking_w(w):\n",
    "                variance, std, rend = sharpe(w, mat_return)\n",
    "                print(f\"{i:0.3}, {rend:0.6} | {(rend)/std}\")\n",
    "                if sharpe_ref < (rend)/std:\n",
    "                    Res=res\n",
    "                    sharpe_ref = (rend)/std\n",
    "                    W=w\n",
    "                    actual_rend= rend\n",
    "                    actual_std = std\n",
    "                    best = f\"rend: {rend} & volatilité: {std}\"\n",
    "                    plt.scatter(std, rend, c=\"red\")\n",
    "    decal+=1\n",
    "        \n",
    "print(best)\n",
    "W"
   ]
  },
  {
   "cell_type": "markdown",
   "metadata": {},
   "source": [
    "## Verification\n",
    "\n",
    "Notre porte-feuille doit respecter plusieurs criteres:\n",
    "\n",
    "- 50% stock en prix\n",
    "- check la currency\n",
    "- check les lots\n",
    "- 1% a 10% par actif\n"
   ]
  },
  {
   "cell_type": "code",
   "execution_count": 190,
   "metadata": {},
   "outputs": [
    {
     "data": {
      "text/plain": [
       "array([124, 165, 297, 405])"
      ]
     },
     "execution_count": 190,
     "metadata": {},
     "output_type": "execute_result"
    }
   ],
   "source": [
    "R_39 = np.array([378,  32, 440, 156, 267, 405, 124, 207, 225, 260, 198, 247, 442, 398, 165, 297, 348, 254])\n",
    "\n",
    "R_38 = np.array([66, 209, 84, 87, 9, 165, 314, 20, 139, 405, 101, 91, 123, 124, 433, 380, 297, 46])\n",
    "np.intersect1d(R_39, R_38)"
   ]
  },
  {
   "cell_type": "code",
   "execution_count": 232,
   "metadata": {},
   "outputs": [],
   "source": [
    "test = np.array(dataset)\n",
    "y = test[:,1]\n",
    "x = test[:,0]\n",
    "\n",
    "x_sort = x[np.argsort(y)]\n",
    "y_sort = y[np.argsort(y)]\n",
    "\n",
    "# Intersection\n",
    "res = x_sort[-20:][0]\n",
    "\n",
    "for i in range(20):\n",
    "    res = np.intersect1d(res, x_sort[-20:][0])\n",
    "res\n",
    "\n",
    "# Union\n",
    "\n",
    "x = np.concatenate(x_sort[-20:]).ravel()\n",
    "l_x = np.unique(x, return_counts=True)\n",
    "res = l_x[0][np.argsort(l_x[1])][-18:]\n"
   ]
  },
  {
   "cell_type": "code",
   "execution_count": 289,
   "metadata": {},
   "outputs": [
    {
     "name": "stdout",
     "output_type": "stream",
     "text": [
      "Stock % :0.71\n",
      "id: 1590, 0.0404% du global, nb: 156588, unit: 25.8, price: 4039970.4 EUR\n",
      "id: 1858, 0.0616% du global, nb: 169837, unit: 36.29, price: 6163384.7299999995 EUR\n",
      "id: 1764, 0.0356% du global, nb: 31230, unit: 113.9, price: 3557097.0 EUR\n",
      "id: 1931, 0.0282% du global, nb: 26871, unit: 105.0, price: 2821455.0 EUR\n",
      "id: 1504, 0.0607% du global, nb: 20318, unit: 298.65, price: 6067970.699999999 EUR\n",
      "id: 1623, 0.0493% du global, nb: 18011, unit: 273.45, price: 4925107.95 EUR\n",
      "id: 1910, 0.058% du global, nb: 93566, unit: 62.0, price: 5801092.0 EUR\n",
      "id: 1965, 0.0971% du global, nb: 72145, unit: 134.5, price: 9703502.5 EUR\n",
      "id: 1973, 0.0845% du global, nb: 2101328, unit: 4.02, price: 8447338.559999999 EUR\n",
      "id: 2000, 0.0878% du global, nb: 349591, unit: 25.1, price: 8774734.1 EUR\n",
      "id: 1958, 0.0886% du global, nb: 60673, unit: 145.95, price: 8855224.35 EUR\n",
      "id: 1987, 0.0407% du global, nb: 329314, unit: 12.355, price: 4068674.47 EUR\n",
      "id: 2120, 0.029% du global, nb: 1002, unit: 2892.0, price: 2897784.0 EUR\n",
      "id: 2194, 0.084% du global, nb: 1834, unit: 4581.76, price: 8402947.84 EUR\n",
      "id: 2172, 0.0155% du global, nb: 106, unit: 14650.63540361379, price: 1552967.3527830616 USD\n",
      "id: 2024, 0.0488% du global, nb: 5978363, unit: 0.8161266629, price: 4879101.444794833 JPY\n",
      "id: 2185, 0.0599% du global, nb: 6372, unit: 939.33, price: 5985410.760000001 EUR\n",
      "id: 1995, 0.0304% du global, nb: 6704164, unit: 0.4529502979095, price: 3036653.081034145 JPY\n",
      "[{'asset': {'asset': 1590, 'quantity': 156588}}, {'asset': {'asset': 1858, 'quantity': 169837}}, {'asset': {'asset': 1764, 'quantity': 31230}}, {'asset': {'asset': 1931, 'quantity': 26871}}, {'asset': {'asset': 1504, 'quantity': 20318}}, {'asset': {'asset': 1623, 'quantity': 18011}}, {'asset': {'asset': 1910, 'quantity': 93566}}, {'asset': {'asset': 1965, 'quantity': 72145}}, {'asset': {'asset': 1973, 'quantity': 2101328}}, {'asset': {'asset': 2000, 'quantity': 349591}}, {'asset': {'asset': 1958, 'quantity': 60673}}, {'asset': {'asset': 1987, 'quantity': 329314}}, {'asset': {'asset': 2120, 'quantity': 1002}}, {'asset': {'asset': 2194, 'quantity': 1834}}, {'asset': {'asset': 2172, 'quantity': 106}}, {'asset': {'asset': 2024, 'quantity': 5978363}}, {'asset': {'asset': 2185, 'quantity': 6372}}, {'asset': {'asset': 1995, 'quantity': 6704164}}]\n",
      "3.378973029611\n",
      "[0.04039994 0.06163396 0.0355715  0.02821543 0.06068051 0.04925152\n",
      " 0.05801128 0.09703622 0.08447342 0.08774747 0.08855243 0.04068685\n",
      " 0.02899339 0.08405334 0.01567605 0.04879102 0.05985912 0.03036653]\n"
     ]
    },
    {
     "data": {
      "text/plain": [
       "True"
      ]
     },
     "execution_count": 289,
     "metadata": {},
     "output_type": "execute_result"
    }
   ],
   "source": [
    "mat_return = np.array(l_return.values[R_39])\n",
    "ww = get_w(mat_return, 7.491159385517032e-18)\n",
    "ariance, std, rend = sharpe(ww, mat_return)\n",
    "new_pt = get_asset_pf(ww, l_id[R_39], list_nav)\n",
    "print(new_pt)\n",
    "\n",
    "new_portfolio = {\n",
    "                \"label\":\"EPITA_PTF_8\",\n",
    "                \"currency\": {\n",
    "                    \"code\":\"EUR\"\n",
    "                },\n",
    "                \"type\":\"front\",\n",
    "                \"values\": {\n",
    "                    \"2016-06-01\": new_pt\n",
    "                }\n",
    "            }\n",
    "ppp = json.dumps(new_portfolio)\n",
    "for azerty in range(3):\n",
    "    time.sleep(1)\n",
    "    req.push(ppp).text\n",
    "sharpe_ = float(json.loads(req.get_ratios())[\"1827\"][\"12\"][\"value\"].replace(\",\", \".\"))\n",
    "print(sharpe_)\n",
    "\n",
    "print(ww)\n",
    "checking_w(ww)"
   ]
  },
  {
   "cell_type": "code",
   "execution_count": 233,
   "metadata": {},
   "outputs": [
    {
     "name": "stdout",
     "output_type": "stream",
     "text": [
      "% de chaque actif : [0.04649611 0.05866689 0.02466263 0.03449888 0.08924772 0.07363554\n",
      " 0.05275441 0.066499   0.01981447 0.04335117 0.09999728 0.05379814\n",
      " 0.04258966 0.02766222 0.06085595 0.08822388 0.03668218 0.08056388]\n",
      "Stock % :0.62\n",
      "-0.0006262626262626275, -0.0006262626262626284\n",
      "2.911165358793\n",
      "% de chaque actif : [0.04648297 0.05871186 0.02476114 0.03453273 0.08924322 0.07373888\n",
      " 0.0528119  0.06651171 0.0199656  0.04324726 0.09988893 0.05372254\n",
      " 0.04277088 0.02763377 0.06093655 0.08796737 0.03663735 0.08043535]\n",
      "Stock % :0.62\n",
      "-0.0006161616161616118, -0.0006161616161616125\n",
      "2.911264284333\n",
      "% de chaque actif : [0.04647164 0.05875938 0.02486051 0.03456809 0.0892426  0.07384534\n",
      " 0.05287161 0.06652877 0.02011759 0.04314427 0.09978498 0.05365076\n",
      " 0.04290811 0.02760652 0.06101979 0.08771471 0.03659411 0.08031122]\n",
      "Stock % :0.62\n",
      "-0.00060606060606061, -0.0006060606060606106\n",
      "2.911377530503\n",
      "% de chaque actif : [0.04646045 0.0588068  0.02496005 0.03460338 0.08924183 0.07395176\n",
      " 0.05293131 0.06654572 0.02026955 0.0430412  0.09968086 0.05357741\n",
      " 0.04304527 0.02757923 0.06110592 0.0874619  0.03655037 0.08018697]\n",
      "Stock % :0.62\n",
      "-0.0005959595959595942, -0.0005959595959595947\n",
      "2.911491068516\n",
      "% de chaque actif : [0.04644924 0.05885412 0.02505949 0.03463883 0.08924145 0.07405842\n",
      " 0.05299124 0.0665615  0.02042159 0.04293833 0.09957714 0.05350578\n",
      " 0.04318261 0.02755206 0.06118933 0.08720948 0.03650724 0.08006217]\n",
      "Stock % :0.62\n"
     ]
    },
    {
     "ename": "KeyboardInterrupt",
     "evalue": "",
     "output_type": "error",
     "traceback": [
      "\u001b[0;31m---------------------------------------------------------------------------\u001b[0m",
      "\u001b[0;31mKeyboardInterrupt\u001b[0m                         Traceback (most recent call last)",
      "\u001b[0;32m<ipython-input-233-268aaa63dddd>\u001b[0m in \u001b[0;36m<module>\u001b[0;34m\u001b[0m\n\u001b[1;32m     25\u001b[0m         \u001b[0mppp\u001b[0m \u001b[0;34m=\u001b[0m \u001b[0mjson\u001b[0m\u001b[0;34m.\u001b[0m\u001b[0mdumps\u001b[0m\u001b[0;34m(\u001b[0m\u001b[0mnew_portfolio\u001b[0m\u001b[0;34m)\u001b[0m\u001b[0;34m\u001b[0m\u001b[0;34m\u001b[0m\u001b[0m\n\u001b[1;32m     26\u001b[0m         \u001b[0;32mfor\u001b[0m \u001b[0mazerty\u001b[0m \u001b[0;32min\u001b[0m \u001b[0mrange\u001b[0m\u001b[0;34m(\u001b[0m\u001b[0;36m3\u001b[0m\u001b[0;34m)\u001b[0m\u001b[0;34m:\u001b[0m\u001b[0;34m\u001b[0m\u001b[0;34m\u001b[0m\u001b[0m\n\u001b[0;32m---> 27\u001b[0;31m             \u001b[0mtime\u001b[0m\u001b[0;34m.\u001b[0m\u001b[0msleep\u001b[0m\u001b[0;34m(\u001b[0m\u001b[0;36m1\u001b[0m\u001b[0;34m)\u001b[0m\u001b[0;34m\u001b[0m\u001b[0;34m\u001b[0m\u001b[0m\n\u001b[0m\u001b[1;32m     28\u001b[0m             \u001b[0mreq\u001b[0m\u001b[0;34m.\u001b[0m\u001b[0mpush\u001b[0m\u001b[0;34m(\u001b[0m\u001b[0mppp\u001b[0m\u001b[0;34m)\u001b[0m\u001b[0;34m.\u001b[0m\u001b[0mtext\u001b[0m\u001b[0;34m\u001b[0m\u001b[0;34m\u001b[0m\u001b[0m\n\u001b[1;32m     29\u001b[0m         \u001b[0msharpe_\u001b[0m \u001b[0;34m=\u001b[0m \u001b[0mfloat\u001b[0m\u001b[0;34m(\u001b[0m\u001b[0mjson\u001b[0m\u001b[0;34m.\u001b[0m\u001b[0mloads\u001b[0m\u001b[0;34m(\u001b[0m\u001b[0mreq\u001b[0m\u001b[0;34m.\u001b[0m\u001b[0mget_ratios\u001b[0m\u001b[0;34m(\u001b[0m\u001b[0;34m)\u001b[0m\u001b[0;34m)\u001b[0m\u001b[0;34m[\u001b[0m\u001b[0;34m\"1827\"\u001b[0m\u001b[0;34m]\u001b[0m\u001b[0;34m[\u001b[0m\u001b[0;34m\"12\"\u001b[0m\u001b[0;34m]\u001b[0m\u001b[0;34m[\u001b[0m\u001b[0;34m\"value\"\u001b[0m\u001b[0;34m]\u001b[0m\u001b[0;34m.\u001b[0m\u001b[0mreplace\u001b[0m\u001b[0;34m(\u001b[0m\u001b[0;34m\",\"\u001b[0m\u001b[0;34m,\u001b[0m \u001b[0;34m\".\"\u001b[0m\u001b[0;34m)\u001b[0m\u001b[0;34m)\u001b[0m\u001b[0;34m\u001b[0m\u001b[0;34m\u001b[0m\u001b[0m\n",
      "\u001b[0;31mKeyboardInterrupt\u001b[0m: "
     ]
    }
   ],
   "source": [
    "import time\n",
    "\n",
    "best= 0\n",
    "PP  = \"\"\n",
    "#Res = np.array([469, 32, 435, 354, 254, 309, 282, 139, 260, 267, 165, 442, 49, 338, 156, 123, 93, 351])\n",
    "#Res =np.array([469, 158, 250, 217, 9, 209, 201, 297, 269, 392, 463, 101, 300, 237, 440, 267, 46, 313])\n",
    "mat_return = np.array(l_return.values[res])\n",
    "target_ = np.linspace(-0.1, 0.001, num=10000)\n",
    "\n",
    "for i in target_:\n",
    "    ww = get_w(mat_return, i)\n",
    "    if checking_w(ww):\n",
    "        variance, std, rend = sharpe(ww, mat_return)\n",
    "        new_pt = get_asset_pf(ww, l_id[res], list_nav)\n",
    "        new_portfolio = {\n",
    "                \"label\":\"EPITA_PTF_8\",\n",
    "                \"currency\": {\n",
    "                    \"code\":\"EUR\"\n",
    "                },\n",
    "                \"type\":\"front\",\n",
    "                \"values\": {\n",
    "                    \"2016-06-01\": new_pt\n",
    "                }\n",
    "            }\n",
    "        ppp = json.dumps(new_portfolio)\n",
    "        for azerty in range(3):\n",
    "            time.sleep(1)\n",
    "            req.push(ppp).text\n",
    "        sharpe_ = float(json.loads(req.get_ratios())[\"1827\"][\"12\"][\"value\"].replace(\",\", \".\"))\n",
    "        print(f\"{i}, {rend}\")\n",
    "        print(sharpe_)\n",
    "        if best < sharpe_:\n",
    "            PP = ppp\n",
    "            best = sharpe_"
   ]
  },
  {
   "cell_type": "code",
   "execution_count": 104,
   "metadata": {},
   "outputs": [
    {
     "data": {
      "text/plain": [
       "3.395504991613"
      ]
     },
     "execution_count": 104,
     "metadata": {},
     "output_type": "execute_result"
    }
   ],
   "source": [
    "best"
   ]
  },
  {
   "cell_type": "code",
   "execution_count": 35,
   "metadata": {},
   "outputs": [
    {
     "data": {
      "text/plain": [
       "array(['FUND', 'STOCK', 'STOCK', 'INDEX', 'STOCK', 'STOCK', 'FUND',\n",
       "       'STOCK', 'STOCK', 'FUND', 'STOCK', 'STOCK', 'FUND', 'STOCK',\n",
       "       'INDEX', 'STOCK', 'STOCK', 'STOCK'], dtype=object)"
      ]
     },
     "execution_count": 35,
     "metadata": {},
     "output_type": "execute_result"
    }
   ],
   "source": [
    "def check_type(list_id):\n",
    "    #df_asset = req.get_asset()[[\"ASSET_DATABASE_ID\", \"TYPE\"]]\n",
    "    mask = df_asset['ASSET_DATABASE_ID'].isin(list_id)\n",
    "    pf_type = df_asset.loc[mask][\"TYPE\"].values\n",
    "    #print(np.unique(pf_type, return_counts=True))\n",
    "    return pf_type\n",
    "    \n",
    "    \n",
    "check_type(l_id[Res])"
   ]
  },
  {
   "cell_type": "code",
   "execution_count": 36,
   "metadata": {},
   "outputs": [
    {
     "data": {
      "text/plain": [
       "array(['USD', 'EUR', 'EUR', 'EUR', 'USD', 'EUR', 'EUR', 'EUR', 'EUR',\n",
       "       'EUR', 'EUR', 'EUR', 'EUR', 'EUR', 'USD', 'EUR', 'EUR', 'USD'],\n",
       "      dtype=object)"
      ]
     },
     "execution_count": 36,
     "metadata": {},
     "output_type": "execute_result"
    }
   ],
   "source": [
    "def check_currency(list_id):\n",
    "    mask = df_asset['ASSET_DATABASE_ID'].isin(list_id)\n",
    "    pf_type = df_asset.loc[mask][\"CURRENCY\"].values\n",
    "    return pf_type\n",
    "\n",
    "check_currency(l_id[Res])"
   ]
  },
  {
   "cell_type": "code",
   "execution_count": null,
   "metadata": {},
   "outputs": [],
   "source": [
    "req.change_currency(\"USD\",\"EUR\")"
   ]
  },
  {
   "cell_type": "code",
   "execution_count": 288,
   "metadata": {},
   "outputs": [
    {
     "name": "stdout",
     "output_type": "stream",
     "text": [
      "Stock % :0.59\n",
      "id: 1591, 0.0573% du global, nb: 39219, unit: 146.2, price: 5733817.8 EUR\n",
      "id: 2112, 0.0622% du global, nb: 148499, unit: 41.89189189188689, price: 6220904.054053311 USD\n",
      "id: 2077, 0.0149% du global, nb: 25267, unit: 59.08, price: 1492774.3599999999 EUR\n",
      "id: 1519, 0.0387% du global, nb: 27445, unit: 140.825381, price: 3864952.581545 EUR\n",
      "id: 1444, 0.0334% du global, nb: 90081, unit: 37.11294075532043, price: 3343170.8161800196 USD\n",
      "id: 2000, 0.0741% du global, nb: 295156, unit: 25.1, price: 7408415.600000001 EUR\n",
      "id: 1515, 0.0383% du global, nb: 23044, unit: 166.1328, price: 3828364.2432 EUR\n",
      "id: 1484, 0.078% du global, nb: 19355, unit: 402.93, price: 7798710.15 EUR\n",
      "id: 1541, 0.0726% du global, nb: 4232, unit: 1715.05, price: 7258091.6 EUR\n",
      "id: 2058, 0.0509% du global, nb: 234948, unit: 21.65, price: 5086624.199999999 EUR\n",
      "id: 1965, 0.0879% du global, nb: 72988, unit: 120.3687130839305, price: 8785471.63056992 USD\n",
      "id: 2023, 0.0285% du global, nb: 6797439, unit: 0.42, price: 2854924.38 EUR\n",
      "id: 2195, 0.0295% du global, nb: 1407, unit: 2099.33, price: 2953757.31 EUR\n",
      "id: 1932, 0.0891% du global, nb: 308743, unit: 28.855, price: 8908779.265 EUR\n",
      "id: 1918, 0.0501% du global, nb: 1082390, unit: 4.63, price: 5011465.7 EUR\n",
      "id: 1966, 0.0754% du global, nb: 995473, unit: 7.572, price: 7537721.556 EUR\n",
      "id: 2160, 0.0579% du global, nb: 265763, unit: 21.791659208875153, price: 5791416.726328287 USD\n",
      "id: 2024, 0.0612% du global, nb: 68375, unit: 89.49346697690001, price: 6119115.8045455385 USD\n"
     ]
    },
    {
     "data": {
      "text/plain": [
       "array([  39219,  148499,   25267,   27445,   90081,  295156,   23044,\n",
       "         19355,    4232,  234948,   72988, 6797439,    1407,  308743,\n",
       "       1082390,  995473,  265763,   68375])"
      ]
     },
     "execution_count": 288,
     "metadata": {},
     "output_type": "execute_result"
    }
   ],
   "source": [
    "def get_amout(w, list_id, list_nav, solde= 100000000):\n",
    "    \n",
    "    stock_price = 0\n",
    "    global_price = 0\n",
    "    actif_price = []\n",
    "    unit_price_l = []\n",
    "    \n",
    "    #On recupere la list de type d'actif et leur currency\n",
    "    l_currency = check_currency(list_id)\n",
    "    l_type = check_type(list_id)\n",
    "    \n",
    "    if l_currency.shape[0] != list_id.shape[0]:\n",
    "        print(\"CHELOU:\", l_currency.shape, list_id.shape)\n",
    "    \n",
    "    #On prend les prix de l'actif a la date\n",
    "    start = dt.datetime.strptime('2016-06-01', '%Y-%m-%d')\n",
    "    price = list_nav.loc[list_nav.index == start]\n",
    "    \n",
    "    #Pour chaque actif on recupere le nombre que l'on peut en acheter\n",
    "    # nombre = (solde*poid) / prix d'une action\n",
    "    nb_actif= []\n",
    "    for i in range(len(list_id)):\n",
    "        unit_price = price[list_id[i]].values[0]\n",
    "        if l_currency[i] != \"EUR\":\n",
    "            r = req.change_currency(l_currency[i],\"EUR\")\n",
    "            unit_price = r * unit_price\n",
    "            \n",
    "        nb = int((solde*w[i])//unit_price)\n",
    "        \n",
    "        if l_type[i] == \"STOCK\":\n",
    "            stock_price+= nb*unit_price\n",
    "        global_price += nb*unit_price\n",
    "        \n",
    "        unit_price_l.append(unit_price)\n",
    "        nb_actif.append(nb)\n",
    "        actif_price.append(nb*unit_price)\n",
    "        \n",
    "    actif_price = np.array(actif_price)\n",
    "    #print(\"% de chaque actif :\",actif_price/global_price)\n",
    "    print(f\"Stock % :{(stock_price/global_price):0.2}\")\n",
    "    tmp = actif_price/global_price\n",
    "    for i in range(len(list_id)):\n",
    "        print(f\"id: {list_id[i]}, {tmp[i]:0.3}% du global, nb: {nb_actif[i]}, unit: {unit_price_l[i]}, price: {actif_price[i]} {l_currency[i]}\")\n",
    "    return np.array(nb_actif)\n",
    "    \n",
    "    \n",
    "get_amout(W, l_id[Res], list_nav)"
   ]
  },
  {
   "cell_type": "markdown",
   "metadata": {},
   "source": [
    "Nous verrifions si le montant de stock est bien superieur a 50%"
   ]
  },
  {
   "cell_type": "code",
   "execution_count": 38,
   "metadata": {},
   "outputs": [
    {
     "data": {
      "text/plain": [
       "[{'asset': {'asset': 2106, 'quantity': 82742}},\n",
       " {'asset': {'asset': 2165, 'quantity': 224}},\n",
       " {'asset': {'asset': 1989, 'quantity': 826854}},\n",
       " {'asset': {'asset': 1485, 'quantity': 68}},\n",
       " {'asset': {'asset': 2154, 'quantity': 125673}},\n",
       " {'asset': {'asset': 1966, 'quantity': 874890}},\n",
       " {'asset': {'asset': 2082, 'quantity': 331343}},\n",
       " {'asset': {'asset': 2024, 'quantity': 57527}},\n",
       " {'asset': {'asset': 1507, 'quantity': 500503}},\n",
       " {'asset': {'asset': 1608, 'quantity': 19895}},\n",
       " {'asset': {'asset': 1940, 'quantity': 1093131}},\n",
       " {'asset': {'asset': 1892, 'quantity': 311411}},\n",
       " {'asset': {'asset': 1538, 'quantity': 137987}},\n",
       " {'asset': {'asset': 1591, 'quantity': 35007}},\n",
       " {'asset': {'asset': 1764, 'quantity': 16187}},\n",
       " {'asset': {'asset': 1504, 'quantity': 17183}},\n",
       " {'asset': {'asset': 1864, 'quantity': 70078}},\n",
       " {'asset': {'asset': 2034, 'quantity': 569900}}]"
      ]
     },
     "execution_count": 38,
     "metadata": {},
     "output_type": "execute_result"
    }
   ],
   "source": [
    "def get_asset_pf(W, list_id, list_nav):\n",
    "    nb = get_amout(W,list_id,list_nav)\n",
    "    nb = np.nan_to_num(nb)\n",
    "    ret = []\n",
    "    for i in range(len(list_id)):\n",
    "        js = {}\n",
    "        js[\"asset\"] = int(list_id[i])\n",
    "        js[\"quantity\"] = int(nb[i])\n",
    "        ret.append({\"asset\": js})\n",
    "    return ret\n",
    "\n",
    "new_pt = get_asset_pf(W, l_id[Res], list_nav)\n",
    "new_pt"
   ]
  },
  {
   "cell_type": "code",
   "execution_count": 39,
   "metadata": {},
   "outputs": [],
   "source": [
    "dataset = []"
   ]
  },
  {
   "cell_type": "code",
   "execution_count": 132,
   "metadata": {},
   "outputs": [
    {
     "name": "stdout",
     "output_type": "stream",
     "text": [
      "[list([469, 165, 251, 424, 46, 422, 433, 138, 123, 303, 402, 237, 348, 93, 396, 124, 392, 68])\n",
      " 3.378973029611]\n",
      "273\n"
     ]
    }
   ],
   "source": [
    "print(np.max(np.array(dataset), axis=0))\n",
    "print(len(dataset))"
   ]
  },
  {
   "cell_type": "code",
   "execution_count": 235,
   "metadata": {
    "scrolled": true
   },
   "outputs": [
    {
     "name": "stdout",
     "output_type": "stream",
     "text": [
      "-1.11131e-18 | -2.8795681860005586e-16\n",
      "% de chaque actif : [0.05791952 0.08724732 0.05312586 0.04542288 0.0789493  0.02998297\n",
      " 0.08988739 0.04767641 0.03582228 0.040076   0.08534428 0.01607189\n",
      " 0.09600414 0.03428072 0.04286414 0.06100903 0.02852646 0.06978943]\n",
      "Stock % :0.48\n",
      "res:  1.29764913493\n",
      "##########RES:  1.29764913493\n",
      "-9.30889e-19 | -2.522254354892386e-16\n",
      "% de chaque actif : [0.0972606  0.06525317 0.0551973  0.09683229 0.04391872 0.02175191\n",
      " 0.03697676 0.04624828 0.07188745 0.06287166 0.05483685 0.04097804\n",
      " 0.0639823  0.04225304 0.07799738 0.03540983 0.05637067 0.02997375]\n",
      "Stock % :0.71\n",
      "res:  1.434349356549\n",
      "##########RES:  1.434349356549\n",
      "-5.40746e-18 | -1.414728260308383e-15\n",
      "% de chaque actif : [0.09750574 0.05772082 0.08160562 0.05325305 0.04216229 0.05550863\n",
      " 0.07401711 0.02140983 0.08610581 0.04206916 0.08077102 0.02530753\n",
      " 0.04819655 0.04515149 0.08284806 0.01733918 0.04714702 0.04188109]\n",
      "Stock % :0.69\n",
      "res:  2.419672611133\n",
      "##########RES:  2.419672611133\n",
      "-2.08709e-18 | -6.600238534387153e-16\n",
      "% de chaque actif : [0.02496441 0.03411417 0.05003158 0.08811454 0.07953805 0.06619913\n",
      " 0.06773205 0.0505917  0.0688766  0.04543014 0.06328108 0.05899634\n",
      " 0.04649562 0.06649042 0.03045508 0.05167541 0.06840926 0.03860443]\n",
      "Stock % :0.6\n",
      "res:  0.813613787664\n",
      "4.58753e-18 | 1.4725060989783319e-15\n",
      "% de chaque actif : [0.08906959 0.07236631 0.04547332 0.04174819 0.07416462 0.06159289\n",
      " 0.0422028  0.03784637 0.05371356 0.05431905 0.03542045 0.03131361\n",
      " 0.09763096 0.03962879 0.06954233 0.06129018 0.07348646 0.01919052]\n",
      "Stock % :0.76\n",
      "res:  2.058857406202\n",
      "7.58942e-19 | 2.396320383532057e-16\n",
      "% de chaque actif : [0.05473344 0.07780338 0.05360757 0.06745996 0.08436894 0.06118473\n",
      " 0.06234854 0.02002045 0.06248148 0.0283754  0.02303934 0.07860463\n",
      " 0.05843566 0.03217913 0.07291997 0.07875833 0.03085437 0.05282467]\n",
      "Stock % :0.78\n",
      "res:  2.733071058995\n",
      "##########RES:  2.733071058995\n",
      "6.1664e-19 | 1.9018349940823631e-16\n",
      "% de chaque actif : [0.08144688 0.04688875 0.01445126 0.066515   0.05264234 0.04737897\n",
      " 0.06260064 0.09622732 0.08132581 0.05133283 0.06506624 0.08666032\n",
      " 0.06255736 0.01101051 0.0438726  0.074776   0.01953579 0.03571137]\n",
      "Stock % :0.67\n",
      "res:  2.651187371306\n",
      "1.12486e-18 | 3.2054963620886635e-16\n",
      "% de chaque actif : [0.07952733 0.06995855 0.06289683 0.05223541 0.03583636 0.05695212\n",
      " 0.03881209 0.04201342 0.01281426 0.05379044 0.08054701 0.07872596\n",
      " 0.06401105 0.05624982 0.05048043 0.05390976 0.07274712 0.03849205]\n",
      "Stock % :0.65\n",
      "res:  1.568295907547\n",
      "5.96311e-19 | 1.7768343244747366e-16\n",
      "% de chaque actif : [0.04117085 0.05214925 0.09076621 0.03575079 0.02435014 0.09541467\n",
      " 0.02574856 0.03784119 0.08873848 0.03856865 0.06760999 0.06200354\n",
      " 0.0464083  0.0753542  0.06366668 0.07095098 0.03414031 0.04936722]\n",
      "Stock % :0.57\n",
      "res:  0.709380642507\n",
      "-5.47522e-18 | -1.7167826189085226e-15\n",
      "% de chaque actif : [0.05116345 0.08104132 0.03425636 0.0796524  0.03269762 0.04519552\n",
      " 0.05607439 0.0466404  0.02619541 0.08713065 0.08045665 0.05154611\n",
      " 0.05701886 0.04376553 0.05806416 0.07588983 0.04128628 0.05192506]\n",
      "Stock % :0.67\n",
      "res:  1.746094557626\n",
      "-4.39102e-18 | -1.2343239340888092e-15\n",
      "% de chaque actif : [0.08894985 0.06669976 0.07934166 0.06282206 0.06043692 0.04604089\n",
      " 0.04346189 0.01745353 0.04841012 0.03658308 0.09593108 0.04675822\n",
      " 0.04666264 0.09739591 0.0662709  0.01283791 0.03271781 0.05122579]\n",
      "Stock % :0.63\n",
      "res:  0.82471760474\n",
      "-2.46656e-18 | -6.803985634221691e-16\n",
      "% de chaque actif : [0.08844812 0.02451673 0.09752189 0.07356307 0.02115731 0.03204519\n",
      " 0.03942563 0.09284158 0.04899216 0.07198064 0.04747446 0.07605055\n",
      " 0.04567576 0.05746874 0.07793831 0.04696658 0.01449716 0.04343611]\n",
      "Stock % :0.8\n",
      "res:  1.262729110718\n",
      "-1.13841e-18 | -3.3474110247920695e-16\n",
      "% de chaque actif : [0.07537281 0.04765694 0.09770571 0.04742187 0.08275595 0.03188025\n",
      " 0.02529532 0.04375303 0.07769624 0.06088092 0.0792327  0.03360623\n",
      " 0.03449429 0.03877814 0.05298634 0.04984736 0.03483672 0.08579919]\n",
      "Stock % :0.66\n",
      "res:  1.657664525476\n",
      "-1.78893e-18 | -6.449428094604451e-16\n",
      "% de chaque actif : [0.04752342 0.08799877 0.05405446 0.08532437 0.0168876  0.04501926\n",
      " 0.05505072 0.07399684 0.04630398 0.06128117 0.06089263 0.03846678\n",
      " 0.04631193 0.04255668 0.05239161 0.07436597 0.0653831  0.04619073]\n",
      "Stock % :0.71\n",
      "res:  1.984812035184\n",
      "3.72694e-19 | 1.1897884455722125e-16\n",
      "% de chaque actif : [0.07332556 0.07822697 0.02731614 0.07247422 0.04286608 0.06719023\n",
      " 0.02830689 0.02778858 0.04606931 0.0539297  0.07950787 0.0322856\n",
      " 0.05361255 0.09948521 0.05522522 0.05514626 0.06712553 0.04011811]\n",
      "Stock % :0.71\n",
      "res:  0.728432265021\n",
      "7.58942e-19 | 2.249703055706741e-16\n",
      "% de chaque actif : [0.06657844 0.08510344 0.08890704 0.04061615 0.05157731 0.07762923\n",
      " 0.05386782 0.07415554 0.01767777 0.06177576 0.03313632 0.06551912\n",
      " 0.02465372 0.05381909 0.0530439  0.03568979 0.03683131 0.07941823]\n",
      "Stock % :0.62\n",
      "res:  2.402630620876\n",
      "8.04681e-19 | 2.6313543689874087e-16\n",
      "% de chaque actif : [0.04876297 0.08375662 0.0884546  0.07716203 0.06218268 0.06204116\n",
      " 0.04579192 0.05537693 0.03854215 0.03317019 0.03150501 0.0281341\n",
      " 0.07408689 0.0680047  0.07441352 0.06999619 0.0316305  0.02698784]\n",
      "Stock % :0.66\n",
      "res:  0.977690606886\n",
      "-5.01444e-19 | -1.5236529557722491e-16\n",
      "% de chaque actif : [0.0369281  0.05015975 0.02886459 0.07896801 0.08699872 0.04481345\n",
      " 0.05802379 0.03445677 0.03616678 0.09203447 0.06382574 0.06785113\n",
      " 0.09060763 0.05210277 0.05640325 0.01847231 0.06752557 0.03579715]\n",
      "Stock % :0.7\n",
      "res:  0.838632921752\n",
      "-7.86047e-19 | -2.158759648766572e-16\n",
      "% de chaque actif : [0.07273525 0.07894954 0.07405601 0.07754375 0.04102446 0.04954204\n",
      " 0.03379967 0.06344382 0.07340322 0.07994998 0.07209841 0.03116071\n",
      " 0.06670464 0.0376764  0.04368946 0.05270526 0.01811663 0.03340073]\n",
      "Stock % :0.85\n",
      "res:  1.013581668553\n",
      "1.61275e-18 | 4.646596532041718e-16\n",
      "% de chaque actif : [0.06027363 0.05094087 0.05768099 0.01910605 0.03899297 0.07685673\n",
      " 0.03812492 0.05326995 0.06439591 0.08716273 0.08985977 0.04584854\n",
      " 0.02251279 0.05607696 0.05785462 0.07617174 0.03422385 0.070647  ]\n",
      "Stock % :0.5\n",
      "res:  1.801699146193\n",
      "-3.63208e-18 | -1.0737770901557308e-15\n",
      "% de chaque actif : [0.04368322 0.04485516 0.02516483 0.02399814 0.04835761 0.01863384\n",
      " 0.04923671 0.05805528 0.0382862  0.0489668  0.09192733 0.08518827\n",
      " 0.09337269 0.07114762 0.071394   0.04099487 0.07790922 0.06882824]\n",
      "Stock % :0.54\n",
      "res:  0.665337949191\n",
      "3.52366e-19 | 1.1147544370496228e-16\n",
      "% de chaque actif : [0.02627793 0.04515538 0.0446079  0.07205457 0.09850362 0.04400785\n",
      " 0.07200573 0.076052   0.07166306 0.06276938 0.06327507 0.09108631\n",
      " 0.02172532 0.07336523 0.03915822 0.03032931 0.02395667 0.04400647]\n",
      "Stock % :0.69\n",
      "res:  0.919550784425\n",
      "2.71051e-19 | 7.421001482830813e-17\n",
      "% de chaque actif : [0.04935863 0.04080398 0.09744043 0.02690706 0.02979442 0.07099217\n",
      " 0.04049987 0.04824793 0.07536279 0.03772632 0.05295178 0.04204746\n",
      " 0.03584124 0.09224338 0.03722846 0.0829025  0.05468294 0.08496864]\n",
      "Stock % :0.64\n",
      "res:  1.935214097989\n",
      "2.52755e-18 | 7.33464095924285e-16\n",
      "% de chaque actif : [0.0867561  0.0530105  0.06371986 0.06547544 0.04454297 0.05121486\n",
      " 0.0721465  0.05162448 0.01487696 0.01264569 0.0421122  0.01625344\n",
      " 0.07285474 0.0678349  0.06339287 0.04478613 0.09633448 0.08041789]\n",
      "Stock % :0.89\n",
      "res:  1.890834010236\n",
      "2.27682e-18 | 6.601627994943917e-16\n",
      "% de chaque actif : [0.04095832 0.064224   0.08655047 0.08137703 0.05738713 0.06918281\n",
      " 0.01732999 0.06102041 0.01035383 0.07757664 0.05745234 0.05530436\n",
      " 0.07734568 0.07746807 0.06407144 0.01762577 0.02309966 0.06167205]\n",
      "Stock % :0.77\n",
      "res:  1.930515453668\n",
      "-4.06576e-19 | -1.2067748584216057e-16\n",
      "% de chaque actif : [0.0793322  0.09501237 0.03723622 0.0485162  0.06251596 0.07223134\n",
      " 0.04700009 0.0666594  0.06071341 0.05176493 0.02733916 0.05573288\n",
      " 0.09849155 0.03453672 0.01851515 0.05674791 0.05541042 0.03224408]\n",
      "Stock % :0.61\n",
      "res:  1.621774863998\n",
      "3.11708e-19 | 9.467476976742777e-17\n",
      "% de chaque actif : [0.08120131 0.07064184 0.03926327 0.07053634 0.01567973 0.05362002\n",
      " 0.0412437  0.09267733 0.05418471 0.04287524 0.07898174 0.05306796\n",
      " 0.06836046 0.07809441 0.04825144 0.01021075 0.03827427 0.06283548]\n",
      "Stock % :0.53\n",
      "res:  0.753246084085\n",
      "-7.58942e-19 | -2.1322439132486262e-16\n",
      "% de chaque actif : [0.02311247 0.02251751 0.09158743 0.03449446 0.08681226 0.06285231\n",
      " 0.0706474  0.05186214 0.04270045 0.06603499 0.07412184 0.04763264\n",
      " 0.07751085 0.03279117 0.06488624 0.04931878 0.02698959 0.07412747]\n",
      "Stock % :0.84\n"
     ]
    },
    {
     "name": "stdout",
     "output_type": "stream",
     "text": [
      "res:  1.926905157794\n",
      "5.42101e-19 | 1.6076336417763852e-16\n",
      "% de chaque actif : [0.05753013 0.01352637 0.07123119 0.0670553  0.03295059 0.08429665\n",
      " 0.05702876 0.05319627 0.08156221 0.04259174 0.01905687 0.04954778\n",
      " 0.05939863 0.07209581 0.04365754 0.0342528  0.09729933 0.06372203]\n",
      "Stock % :0.66\n",
      "res:  0.866488979855\n",
      "-1.3146e-18 | -4.13038311917195e-16\n",
      "% de chaque actif : [0.09570023 0.01731559 0.05057338 0.03105474 0.06617903 0.03784446\n",
      " 0.0623585  0.05106426 0.05581925 0.08926885 0.06500936 0.07463531\n",
      " 0.0449445  0.06698826 0.07110296 0.04857    0.03908695 0.03248436]\n",
      "Stock % :0.67\n",
      "res:  0.865505406758\n",
      "1.02999e-18 | 3.0011787186387447e-16\n",
      "% de chaque actif : [0.06939131 0.09855903 0.06965033 0.09998469 0.02755275 0.04543631\n",
      " 0.05481031 0.03283397 0.05909487 0.06186491 0.04242642 0.05443757\n",
      " 0.0224041  0.04978809 0.06553943 0.057531   0.04864108 0.04005382]\n",
      "Stock % :0.64\n",
      "res:  0.103998607969\n",
      "-6.64074e-19 | -1.8544554611016844e-16\n",
      "% de chaque actif : [0.03810732 0.07984608 0.0751453  0.02709304 0.09547867 0.06327738\n",
      " 0.04106067 0.02419013 0.07961969 0.09612421 0.09198899 0.03421858\n",
      " 0.06863303 0.02941379 0.04567616 0.02448215 0.04488429 0.04076051]\n",
      "Stock % :0.67\n",
      "res:  0.861197258269\n",
      "-8.09763e-19 | -2.3279065755101634e-16\n",
      "% de chaque actif : [0.05601136 0.08303578 0.0408851  0.02224274 0.0660715  0.02112844\n",
      " 0.09668475 0.03059179 0.01538323 0.06570311 0.01205163 0.04273729\n",
      " 0.09107385 0.09434258 0.06794833 0.08532964 0.04392528 0.06485361]\n",
      "Stock % :0.64\n",
      "res:  1.253343993516\n",
      "-1.73472e-18 | -5.30207586897069e-16\n",
      "% de chaque actif : [0.03163995 0.02277689 0.0408453  0.09677733 0.06515125 0.08449528\n",
      " 0.06021331 0.04171423 0.02621151 0.02393469 0.09143857 0.0145802\n",
      " 0.01743705 0.05669904 0.09572181 0.09645046 0.03830537 0.09560776]\n",
      "Stock % :0.77\n",
      "res:  2.456894480483\n",
      "1.25361e-18 | 3.726119359849169e-16\n",
      "% de chaque actif : [0.07421073 0.05024238 0.06109082 0.06982551 0.03212753 0.03697725\n",
      " 0.05245714 0.05141473 0.04329291 0.03167784 0.09908763 0.09190747\n",
      " 0.02667313 0.06441426 0.02140288 0.07041261 0.07228307 0.0505021 ]\n",
      "Stock % :0.52\n",
      "res:  2.204780807405\n",
      "3.97089e-18 | 1.1912198497250793e-15\n",
      "% de chaque actif : [0.04041435 0.07617998 0.08299164 0.09199058 0.04996531 0.05906724\n",
      " 0.06955052 0.07494625 0.03094479 0.05817037 0.0401996  0.07340713\n",
      " 0.01921984 0.0479809  0.03006005 0.04448251 0.06053556 0.04989337]\n",
      "Stock % :0.77\n",
      "res:  1.990908860054\n",
      "-1.2553e-18 | -3.809994610895118e-16\n",
      "% de chaque actif : [0.06225602 0.03759403 0.09422865 0.04185039 0.03749544 0.04049434\n",
      " 0.03205589 0.06056007 0.06841548 0.02456264 0.01924162 0.0792533\n",
      " 0.03946004 0.09377513 0.04956177 0.0582361  0.09707293 0.06388617]\n",
      "Stock % :0.57\n",
      "res:  1.409760135281\n",
      "3.25261e-19 | 1.0297528551179011e-16\n",
      "% de chaque actif : [0.05733905 0.06220999 0.01492797 0.03865011 0.03343222 0.07408528\n",
      " 0.03828423 0.07798829 0.07258202 0.05086702 0.08785605 0.02854968\n",
      " 0.02953802 0.08908915 0.05011542 0.07537836 0.05791505 0.06119209]\n",
      "Stock % :0.59\n",
      "res:  2.752333795083\n",
      "##########RES:  2.752333795083\n",
      "3.79471e-19 | 1.094322123341534e-16\n",
      "% de chaque actif : [0.05761647 0.04532703 0.04862701 0.05445705 0.08721392 0.04861583\n",
      " 0.08763231 0.05928765 0.03085121 0.07281509 0.04014074 0.06664491\n",
      " 0.01902056 0.09046228 0.0808515  0.02819261 0.03066691 0.05157691]\n",
      "Stock % :0.77\n",
      "res:  0.831363444183\n",
      "-1.46367e-18 | -4.077689932688645e-16\n",
      "% de chaque actif : [0.08484781 0.04248411 0.05177065 0.09047827 0.08575375 0.01473879\n",
      " 0.07135785 0.01545919 0.03604978 0.0719451  0.07455865 0.0365572\n",
      " 0.02821954 0.01359155 0.0575109  0.0818982  0.07940404 0.06337462]\n",
      "Stock % :0.68\n",
      "res:  1.978501898979\n",
      "-1.11131e-18 | -3.593657397502637e-16\n",
      "% de chaque actif : [0.06292706 0.0590229  0.03670062 0.01301562 0.07646163 0.03765097\n",
      " 0.0554009  0.05796569 0.04717888 0.0946947  0.08183143 0.03738877\n",
      " 0.01342332 0.08103077 0.03592195 0.07581379 0.05618263 0.07738838]\n",
      "Stock % :0.68\n",
      "res:  1.667488759089\n",
      "8.94467e-19 | 2.670988126906488e-16\n",
      "% de chaque actif : [0.06969937 0.04630531 0.07726838 0.08510215 0.03942225 0.05613683\n",
      " 0.07976323 0.05257514 0.03030416 0.04127892 0.0509076  0.09675155\n",
      " 0.0312247  0.04835428 0.07583095 0.04634018 0.03177808 0.04095691]\n",
      "Stock % :0.78\n",
      "res:  1.025096027228\n",
      "-8.47033e-19 | -2.754542587036242e-16\n",
      "% de chaque actif : [0.03832797 0.04796938 0.03028919 0.0651165  0.09722203 0.05365528\n",
      " 0.05947387 0.05739948 0.0354762  0.0506929  0.05019418 0.05729742\n",
      " 0.08493028 0.08958151 0.05084945 0.02635655 0.0467693  0.05839851]\n",
      "Stock % :0.66\n",
      "res:  1.701531518962\n",
      "-6.77626e-21 | -2.3610444799962187e-18\n",
      "% de chaque actif : [0.07915334 0.05400886 0.06195977 0.05990007 0.07882481 0.04336127\n",
      " 0.09363602 0.04212582 0.06085003 0.02152268 0.09628348 0.02373699\n",
      " 0.05265573 0.01920724 0.05276591 0.07084301 0.04158735 0.04757761]\n",
      "Stock % :0.79\n",
      "res:  0.949197810807\n",
      "1.24683e-18 | 3.8506215740461483e-16\n",
      "% de chaque actif : [0.07878574 0.05389214 0.05367358 0.05505804 0.08986356 0.06877602\n",
      " 0.03282132 0.0244421  0.06807342 0.09888192 0.09971115 0.02963652\n",
      " 0.05000338 0.01091962 0.03750414 0.04953676 0.04050292 0.05791767]\n",
      "Stock % :0.71\n",
      "res:  1.19826021083\n",
      "-1.35525e-19 | -3.3337918339175546e-17\n",
      "% de chaque actif : [0.06884681 0.03261813 0.0993636  0.05429266 0.04807821 0.03180139\n",
      " 0.01006006 0.07425723 0.05210379 0.02741082 0.05057606 0.03455233\n",
      " 0.088297   0.04410524 0.07179234 0.08929364 0.05480656 0.06774414]\n",
      "Stock % :0.53\n",
      "res:  2.741593278473\n",
      "-5.9089e-18 | -1.7737359164055143e-15\n",
      "% de chaque actif : [0.07774705 0.01540272 0.01364277 0.04200797 0.09274048 0.09460822\n",
      " 0.08059304 0.03971959 0.04798409 0.04125081 0.06300379 0.06390957\n",
      " 0.0809653  0.05949765 0.02714913 0.07300257 0.03017851 0.05659675]\n",
      "Stock % :0.74\n",
      "res:  1.601310746521\n",
      "-1.73472e-18 | -5.934503049231077e-16\n",
      "% de chaque actif : [0.06937975 0.04231738 0.06662227 0.06771351 0.05101006 0.03566855\n",
      " 0.07146601 0.01559457 0.07068716 0.03647757 0.02093761 0.04702878\n",
      " 0.06848855 0.0620589  0.08187333 0.06262547 0.09687719 0.03317332]\n",
      "Stock % :0.74\n",
      "res:  0.280481731474\n",
      "-2.49366e-18 | -8.294469483378723e-16\n",
      "% de chaque actif : [0.0340075  0.07758689 0.0477088  0.07191047 0.08077063 0.072148\n",
      " 0.05922978 0.04962718 0.03971108 0.03384297 0.06097834 0.03155306\n",
      " 0.04681004 0.07495163 0.09220211 0.06206553 0.01404841 0.05084759]\n",
      "Stock % :0.83\n",
      "res:  1.85122357206\n",
      "-3.79471e-19 | -1.1698447032231559e-16\n",
      "% de chaque actif : [0.02850822 0.05114402 0.07718438 0.05950622 0.02942213 0.03155629\n",
      " 0.03177663 0.08641819 0.0555076  0.06036407 0.05745633 0.04651528\n",
      " 0.0588036  0.06154712 0.07422142 0.09373042 0.03772815 0.05860992]\n",
      "Stock % :0.48\n",
      "res:  0.718066206075\n",
      "2.43945e-19 | 7.028637803422478e-17\n",
      "% de chaque actif : [0.02418038 0.07782718 0.01962422 0.06616055 0.09279355 0.09622153\n",
      " 0.0352518  0.09116131 0.09250198 0.06237177 0.0552721  0.0140166\n",
      " 0.03323792 0.06626595 0.04368506 0.0203129  0.08962173 0.01949346]\n",
      "Stock % :0.6\n",
      "res:  1.981088292798\n",
      "1.97867e-18 | 5.835422647103596e-16\n",
      "% de chaque actif : [0.060294   0.03628031 0.02937807 0.0622325  0.09938459 0.05604092\n",
      " 0.04175686 0.09114447 0.05894325 0.04754711 0.03624408 0.06820606\n",
      " 0.07986377 0.04791485 0.0400868  0.04121411 0.08183245 0.0216358 ]\n",
      "Stock % :0.83\n",
      "res:  0.882610314929\n",
      "1.0842e-18 | 3.0705396682900256e-16\n",
      "% de chaque actif : [0.02832509 0.0203412  0.09353836 0.04507646 0.05473372 0.06669416\n",
      " 0.03447921 0.07934813 0.04807771 0.06617414 0.05994219 0.03157067\n",
      " 0.06509272 0.07254183 0.0566196  0.01295733 0.08345709 0.08103038]\n",
      "Stock % :0.68\n",
      "res:  1.980726944919\n",
      "-6.55942e-18 | -1.781717405528407e-15\n",
      "% de chaque actif : [0.05488878 0.01855801 0.04615592 0.05229332 0.09394679 0.05328485\n",
      " 0.06661729 0.08238975 0.03182865 0.06370085 0.07911822 0.03028996\n",
      " 0.05052375 0.0386379  0.0657117  0.03653101 0.08020176 0.0553215 ]\n",
      "Stock % :0.69\n",
      "res:  0.971651942916\n",
      "0.0 | 0.0\n",
      "% de chaque actif : [0.03016532 0.05813238 0.05143761 0.05282228 0.02919062 0.08303154\n",
      " 0.02618651 0.04207123 0.0776773  0.06174733 0.0528893  0.03436736\n",
      " 0.09811661 0.0318471  0.04923633 0.07297261 0.06158611 0.08652245]\n",
      "Stock % :0.64\n",
      "res:  1.250252695399\n",
      "rend: 3.2526065174565133e-19 & volatilité: 0.003158628307065104 , 2.752333795083\n"
     ]
    },
    {
     "data": {
      "text/plain": [
       "array([0.05733906, 0.0622091 , 0.01492792, 0.03865056, 0.03343194,\n",
       "       0.07408417, 0.03828506, 0.07798782, 0.07258643, 0.05086625,\n",
       "       0.08785489, 0.02854925, 0.02954195, 0.08908781, 0.05011468,\n",
       "       0.07537724, 0.05791429, 0.06119158])"
      ]
     },
     "execution_count": 235,
     "metadata": {},
     "output_type": "execute_result"
    }
   ],
   "source": [
    "import time\n",
    "import random\n",
    "\n",
    "sort_ = np.argsort(rend_l/std_l)\n",
    "classement2 = np.zeros_like(sort_)\n",
    "for i in range(len(sort_)):\n",
    "    classement2[sort_[i]] += i\n",
    "    classement2[sort_rend[i]] += i*0.1\n",
    "\n",
    "res = np.argsort(classement)[-15:]\n",
    "mat_return = np.array(l_return.values[res])\n",
    "target_ = np.linspace(0, 0.01, num=100)\n",
    "best = \"\"\n",
    "W=np.array([])\n",
    "decal = 0\n",
    "sharpe_ref = -10000\n",
    "Res=[]\n",
    "best_sharpe = 0\n",
    "\n",
    "while decal < 1000:\n",
    "    res = random.sample(list(l_x[0]),k=18)#list(np.argsort(classement2)[-100:]), k=18)\n",
    "    mat_return = np.array(l_return.values[res])\n",
    "\n",
    "    try:\n",
    "        w = get_w(mat_return, target_[0])\n",
    "        if checking_w(w):\n",
    "            variance, std, rend = sharpe(w, mat_return)\n",
    "            print(f\"{rend:0.6} | {(rend)/std}\")\n",
    "\n",
    "            new_pt = get_asset_pf(w, l_id[res], list_nav)\n",
    "            new_portfolio = {\n",
    "                \"label\":\"EPITA_PTF_8\",\n",
    "                \"currency\": {\n",
    "                    \"code\":\"EUR\"\n",
    "                },\n",
    "                \"type\":\"front\",\n",
    "                \"values\": {\n",
    "                    \"2016-06-01\": new_pt\n",
    "                }\n",
    "            }\n",
    "            pp = json.dumps(new_portfolio)\n",
    "            for azerty in range(3):\n",
    "                time.sleep(1)\n",
    "                req.push(pp).text\n",
    "            sharpe_ = float(json.loads(req.get_ratios())[\"1827\"][\"12\"][\"value\"].replace(\",\", \".\"))\n",
    "            print(\"res: \",sharpe_)\n",
    "            dataset.append([res,sharpe_])\n",
    "            if sharpe_ > best_sharpe:\n",
    "                print(\"##########RES: \",sharpe_)\n",
    "                best = f\"rend: {rend} & volatilité: {std} , {sharpe_}\"\n",
    "                PP = pp\n",
    "                best_sharpe = sharpe_\n",
    "                W=w\n",
    "                Res=res\n",
    "\n",
    "    except:\n",
    "        pass\n",
    "    decal+=1\n",
    "        \n",
    "print(best)\n",
    "W"
   ]
  },
  {
   "cell_type": "markdown",
   "metadata": {},
   "source": [
    "## Porte-Feuille"
   ]
  },
  {
   "cell_type": "code",
   "execution_count": 52,
   "metadata": {},
   "outputs": [],
   "source": [
    "new_portfolio = {\n",
    "    \"label\":\"EPITA_PTF_8\",\n",
    "    \"currency\": {\n",
    "        \"code\":\"EUR\"\n",
    "    },\n",
    "    \"type\":\"front\",\n",
    "    \"values\": {\n",
    "        \"2016-06-01\": new_pt\n",
    "    }\n",
    "}\n",
    "pp = json.dumps(new_portfolio)\n",
    "#with open('data2.txt', 'w') as outfile:\n",
    "#    json.dump(new_portfolio, outfile)"
   ]
  },
  {
   "cell_type": "code",
   "execution_count": 274,
   "metadata": {},
   "outputs": [
    {
     "data": {
      "text/plain": [
       "''"
      ]
     },
     "execution_count": 274,
     "metadata": {},
     "output_type": "execute_result"
    }
   ],
   "source": [
    "req.push(pp39).text"
   ]
  },
  {
   "cell_type": "code",
   "execution_count": 276,
   "metadata": {},
   "outputs": [
    {
     "data": {
      "text/html": [
       "<div>\n",
       "<style scoped>\n",
       "    .dataframe tbody tr th:only-of-type {\n",
       "        vertical-align: middle;\n",
       "    }\n",
       "\n",
       "    .dataframe tbody tr th {\n",
       "        vertical-align: top;\n",
       "    }\n",
       "\n",
       "    .dataframe thead th {\n",
       "        text-align: right;\n",
       "    }\n",
       "</style>\n",
       "<table border=\"1\" class=\"dataframe\">\n",
       "  <thead>\n",
       "    <tr style=\"text-align: right;\">\n",
       "      <th></th>\n",
       "      <th>2201</th>\n",
       "      <th>1827</th>\n",
       "    </tr>\n",
       "  </thead>\n",
       "  <tbody>\n",
       "    <tr>\n",
       "      <th>10</th>\n",
       "      <td>{'type': 'percent', 'value': '0,166459552501'}</td>\n",
       "      <td>{'type': 'percent', 'value': '0,373605296016'}</td>\n",
       "    </tr>\n",
       "    <tr>\n",
       "      <th>12</th>\n",
       "      <td>{'type': 'double', 'value': '0,146571943186'}</td>\n",
       "      <td>{'type': 'double', 'value': '3,395504991613'}</td>\n",
       "    </tr>\n",
       "    <tr>\n",
       "      <th>9</th>\n",
       "      <td>{'type': 'percent', 'value': '0,029398300072'}</td>\n",
       "      <td>{'type': 'percent', 'value': '1,273578647515'}</td>\n",
       "    </tr>\n",
       "  </tbody>\n",
       "</table>\n",
       "</div>"
      ],
      "text/plain": [
       "                                              2201  \\\n",
       "10  {'type': 'percent', 'value': '0,166459552501'}   \n",
       "12   {'type': 'double', 'value': '0,146571943186'}   \n",
       "9   {'type': 'percent', 'value': '0,029398300072'}   \n",
       "\n",
       "                                              1827  \n",
       "10  {'type': 'percent', 'value': '0,373605296016'}  \n",
       "12   {'type': 'double', 'value': '3,395504991613'}  \n",
       "9   {'type': 'percent', 'value': '1,273578647515'}  "
      ]
     },
     "execution_count": 276,
     "metadata": {},
     "output_type": "execute_result"
    }
   ],
   "source": [
    "#9:r 10:v 12:sharpe 3.284743012218'\n",
    "pd.DataFrame(json.loads(req.get_ratios()))"
   ]
  },
  {
   "cell_type": "code",
   "execution_count": 244,
   "metadata": {},
   "outputs": [
    {
     "data": {
      "text/html": [
       "<div>\n",
       "<style scoped>\n",
       "    .dataframe tbody tr th:only-of-type {\n",
       "        vertical-align: middle;\n",
       "    }\n",
       "\n",
       "    .dataframe tbody tr th {\n",
       "        vertical-align: top;\n",
       "    }\n",
       "\n",
       "    .dataframe thead th {\n",
       "        text-align: right;\n",
       "    }\n",
       "</style>\n",
       "<table border=\"1\" class=\"dataframe\">\n",
       "  <thead>\n",
       "    <tr style=\"text-align: right;\">\n",
       "      <th></th>\n",
       "      <th>2201</th>\n",
       "      <th>1827</th>\n",
       "    </tr>\n",
       "  </thead>\n",
       "  <tbody>\n",
       "    <tr>\n",
       "      <th>10</th>\n",
       "      <td>{'type': 'percent', 'value': '0,166459552501'}</td>\n",
       "      <td>{'type': 'percent', 'value': '0,373605296016'}</td>\n",
       "    </tr>\n",
       "    <tr>\n",
       "      <th>12</th>\n",
       "      <td>{'type': 'double', 'value': '0,146571943186'}</td>\n",
       "      <td>{'type': 'double', 'value': '3,395504991613'}</td>\n",
       "    </tr>\n",
       "    <tr>\n",
       "      <th>9</th>\n",
       "      <td>{'type': 'percent', 'value': '0,029398300072'}</td>\n",
       "      <td>{'type': 'percent', 'value': '1,273578647515'}</td>\n",
       "    </tr>\n",
       "  </tbody>\n",
       "</table>\n",
       "</div>"
      ],
      "text/plain": [
       "                                              2201  \\\n",
       "10  {'type': 'percent', 'value': '0,166459552501'}   \n",
       "12   {'type': 'double', 'value': '0,146571943186'}   \n",
       "9   {'type': 'percent', 'value': '0,029398300072'}   \n",
       "\n",
       "                                              1827  \n",
       "10  {'type': 'percent', 'value': '0,373605296016'}  \n",
       "12   {'type': 'double', 'value': '3,395504991613'}  \n",
       "9   {'type': 'percent', 'value': '1,273578647515'}  "
      ]
     },
     "execution_count": 244,
     "metadata": {},
     "output_type": "execute_result"
    }
   ],
   "source": [
    "pd.DataFrame(json.loads(req.get_ratios()))"
   ]
  },
  {
   "cell_type": "code",
   "execution_count": 112,
   "metadata": {},
   "outputs": [
    {
     "data": {
      "text/plain": [
       "'{\"label\": \"EPITA_PTF_8\", \"currency\": {\"code\": \"EUR\"}, \"type\": \"front\", \"values\": {\"2016-06-01\": [{\"asset\": {\"asset\": 1590, \"quantity\": 152865}}, {\"asset\": {\"asset\": 1858, \"quantity\": 165185}}, {\"asset\": {\"asset\": 1764, \"quantity\": 32318}}, {\"asset\": {\"asset\": 1931, \"quantity\": 26270}}, {\"asset\": {\"asset\": 1504, \"quantity\": 19240}}, {\"asset\": {\"asset\": 1623, \"quantity\": 17725}}, {\"asset\": {\"asset\": 1910, \"quantity\": 91970}}, {\"asset\": {\"asset\": 1965, \"quantity\": 74200}}, {\"asset\": {\"asset\": 1973, \"quantity\": 2278747}}, {\"asset\": {\"asset\": 2000, \"quantity\": 351614}}, {\"asset\": {\"asset\": 1958, \"quantity\": 61367}}, {\"asset\": {\"asset\": 1987, \"quantity\": 308628}}, {\"asset\": {\"asset\": 2120, \"quantity\": 1103}}, {\"asset\": {\"asset\": 2194, \"quantity\": 1704}}, {\"asset\": {\"asset\": 2172, \"quantity\": 95}}, {\"asset\": {\"asset\": 2024, \"quantity\": 6335977}}, {\"asset\": {\"asset\": 2185, \"quantity\": 6450}}, {\"asset\": {\"asset\": 1995, \"quantity\": 6534923}}]}}'"
      ]
     },
     "execution_count": 112,
     "metadata": {},
     "output_type": "execute_result"
    }
   ],
   "source": [
    "# 3.17\n",
    "pp1 = PP\n",
    "\n",
    "f = open(\"3_39.txt\", \"w\")\n",
    "f.write(pp1)\n",
    "f.close()\n",
    "pp1"
   ]
  },
  {
   "cell_type": "code",
   "execution_count": 267,
   "metadata": {},
   "outputs": [],
   "source": [
    "# best avec 2.7\n",
    "with open('3_37.txt') as json_file:\n",
    "    data = json.load(json_file)\n",
    "data\n",
    "pp37 = str(data)\n",
    "\n",
    "with open('3_39.txt') as json_file:\n",
    "    data = json.load(json_file)\n",
    "data\n",
    "pp39 = str(data)\n",
    "\n",
    "with open('3_28.txt') as json_file:\n",
    "    data = json.load(json_file)\n",
    "data\n",
    "pp28 = str(data)"
   ]
  },
  {
   "cell_type": "code",
   "execution_count": null,
   "metadata": {},
   "outputs": [],
   "source": []
  }
 ],
 "metadata": {
  "kernelspec": {
   "display_name": "Python 3",
   "language": "python",
   "name": "python3"
  },
  "language_info": {
   "codemirror_mode": {
    "name": "ipython",
    "version": 3
   },
   "file_extension": ".py",
   "mimetype": "text/x-python",
   "name": "python",
   "nbconvert_exporter": "python",
   "pygments_lexer": "ipython3",
   "version": "3.7.3"
  }
 },
 "nbformat": 4,
 "nbformat_minor": 4
}
